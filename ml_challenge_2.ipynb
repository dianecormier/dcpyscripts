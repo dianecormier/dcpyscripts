{
 "cells": [
  {
   "cell_type": "markdown",
   "metadata": {},
   "source": [
    "# This is a notebook to solve the Kaggle Titanic challenge.\n",
    "The goal is to predict the survival of passengers. The final model uses ensemble methods put together for vote. Accuracy on the training/validation sets in the range [0.81-0.84]. Score on the test set around 0.80. Different age/fare groups and family attributes were tested but no big difference overall.\n"
   ]
  },
  {
   "cell_type": "markdown",
   "metadata": {},
   "source": [
    "# Setup and definition of some functions"
   ]
  },
  {
   "cell_type": "code",
   "execution_count": 1,
   "metadata": {},
   "outputs": [],
   "source": [
    "# Common imports\n",
    "\n",
    "import numpy as np\n",
    "import os\n",
    "import pandas as pd\n",
    "import seaborn as sns\n",
    "\n",
    "import sklearn\n",
    "from sklearn.model_selection import train_test_split\n",
    "from sklearn.model_selection import cross_val_score\n",
    "from sklearn.model_selection import cross_val_predict\n",
    "from sklearn.metrics import confusion_matrix\n",
    "from sklearn.preprocessing import LabelBinarizer\n",
    "\n",
    "\n",
    "# To plot pretty figures\n",
    "\n",
    "%matplotlib inline\n",
    "import matplotlib as mpl\n",
    "import matplotlib.pyplot as plt\n",
    "\n",
    "\n",
    "# General variables and options\n",
    "\n",
    "DATA_PATH = './titanic/'\n",
    "\n",
    "\n",
    "# Functions\n",
    "\n",
    "def load_this_data(this_path, this_filename):\n",
    "    \n",
    "    \"\"\" Function to read the dataset\n",
    "    \n",
    "        Input: path and filename\n",
    "        Output: Panda Dataframe\n",
    "    \"\"\"\n",
    "    \n",
    "    csv_path = os.path.join(this_path, this_filename)\n",
    "    \n",
    "    return pd.read_csv(csv_path)\n",
    "\n",
    "\n",
    "def feature_pipeline(this_dataset):\n",
    "    \n",
    "    \"\"\" Function to run automatically and in the right order\n",
    "        through the imputing and feature creating functions below\n",
    "    \n",
    "        Input: Panda DataFrame\n",
    "        Output: Panda DataFrame\n",
    "    \"\"\"\n",
    "\n",
    "    pip_impute_fare(this_dataset)\n",
    "    pip_extract_title(this_dataset)\n",
    "    pip_extract_titlecat(this_dataset)\n",
    "    pip_extract_familycat(this_dataset)\n",
    "    pip_extract_relatives(this_dataset)\n",
    "    pip_extract_faregroup(this_dataset)\n",
    "    pip_extract_agegroup(this_dataset)\n",
    "    pip_extract_hascabin(this_dataset)\n",
    "    pip_impute_embark(this_dataset)\n",
    "    pip_categorize(this_dataset)\n",
    "    \n",
    "    \n",
    "# Imputing and extracting features\n",
    "def pip_impute_fare(this_dataset):\n",
    "    \n",
    "    \"\"\" Replaces missing values with mean from Pclass\"\"\"\n",
    "\n",
    "    tmp_fare = this_dataset[\"Fare\"].map(lambda s: s if (s >= 0) else -1)\n",
    "    for this_class in [1,2,3]:\n",
    "        mean_fare = original_set.Fare[((original_set.Pclass == this_class) & (original_set.Fare > 0))].mean()\n",
    "        tmp_fare[((tmp_fare == -1) & (this_dataset.Pclass == this_class))] = mean_fare\n",
    "    this_dataset[\"Fare\"] = tmp_fare\n",
    "    \n",
    "    \n",
    "def pip_extract_title(this_dataset):\n",
    "    \n",
    "    \"\"\" Create feature based on title in name \"\"\"\n",
    "\n",
    "    set_title = [i.split(\",\")[1].split(\".\")[0].strip() for i in this_dataset[\"Name\"]]\n",
    "    this_dataset[\"Title\"] = pd.Series(set_title)\n",
    "\n",
    "    \n",
    "def pip_extract_titlecat(this_dataset):\n",
    "    \n",
    "    \"\"\" Create categorical feature based on title \"\"\"\n",
    "\n",
    "    is_fancy = ['the Countess','Countess','Lady','Sir']\n",
    "    is_rare = ['Rev','Capt','Dr','Major','Col','Jonkheer','Don','Dona']\n",
    "    this_dataset['is_mr'] = this_dataset['Title'].map(lambda s: 1 if (s=='Mr') else 0)\n",
    "    this_dataset['is_mrs'] = this_dataset['Title'].map(lambda s: 1 if ((s=='Mrs') or (s=='Mme')) else 0)\n",
    "    this_dataset['is_miss'] = this_dataset['Title'].map(lambda s: 1 if ((s=='Miss') or (s=='Mlle') or (s=='Ms')) else 0)\n",
    "    this_dataset['is_master'] = this_dataset['Title'].map(lambda s: 1 if (s=='Master') else 0)\n",
    "    this_dataset['is_fancy'] = this_dataset['Title'].map(lambda s: 1 if (s in is_fancy) else 0)\n",
    "    this_dataset['is_rare'] = this_dataset['Title'].map(lambda s: 1 if (s in is_rare) else 0)\n",
    "    \n",
    "    \n",
    "def pip_extract_familycat(this_dataset):\n",
    "    \n",
    "    \"\"\" Create categorical feature based on family size \"\"\"\n",
    "\n",
    "    tmp_small_family = this_dataset['Parch'].map(lambda s: 1 if (s == 1 or s == 2) else 0)\n",
    "    tmp_small_family[(this_dataset.SibSp > 2)] = 0\n",
    "    this_dataset['fam_small'] = tmp_small_family\n",
    "\n",
    "    tmp_big_family = this_dataset['Parch'].map(lambda s: 1 if (s > 2) else 0)\n",
    "    tmp_big_family[((this_dataset.SibSp > 2) & (this_dataset.Parch > 0))] = 1\n",
    "    this_dataset['fam_big'] = tmp_big_family\n",
    "\n",
    "    \n",
    "def pip_extract_relatives(this_dataset):\n",
    "    \n",
    "    \"\"\" Create categorical feature based on presence of a relative \"\"\"\n",
    "\n",
    "    this_dataset[\"relatives_on\"] = this_dataset[\"SibSp\"] + this_dataset[\"Parch\"]\n",
    "    \n",
    "\n",
    "def pip_extract_faregroup(this_dataset):\n",
    "    \n",
    "    \"\"\" Create feature based on fare range \"\"\"\n",
    "\n",
    "    bins = [0, 10, 50] #most expensive have 0 for all groups\n",
    "    this_dataset[\"fare_group1\"] = this_dataset['Fare'].map(lambda s: 1 if ((s >= bins[0]) and (s < bins[1])) else 0)\n",
    "    this_dataset[\"fare_group2\"] = this_dataset['Fare'].map(lambda s: 1 if ((s >= bins[1]) and (s < bins[2])) else 0)\n",
    "\n",
    "\n",
    "def pip_extract_agegroup(this_dataset):\n",
    "    \n",
    "    \"\"\" Create feature based on age range, impute age on title category \"\"\"\n",
    "\n",
    "    tmp_age = this_dataset[\"Age\"].map(lambda s: s if not pd.isnull(s) else -1)\n",
    "    for this_title in ['is_rare','is_fancy','is_master','is_miss','is_mrs','is_mr']:\n",
    "        median_age = original_set.Age[((original_set[this_title] == 1) & (tmp_age > 0))].median()\n",
    "        tmp_age[((tmp_age == -1) & (this_dataset[this_title] == 1))] = median_age\n",
    "    bins = [0, 5, 18, 60] #oldest have 0 for all groups\n",
    "    this_dataset[\"age_group1\"] = tmp_age.map(lambda s: 1 if ((s >= bins[0]) and (s < bins[1])) else 0)\n",
    "    this_dataset[\"age_group2\"] = tmp_age.map(lambda s: 1 if ((s >= bins[1]) and (s < bins[2])) else 0)\n",
    "    this_dataset[\"age_group3\"] = tmp_age.map(lambda s: 1 if ((s >= bins[2]) and (s < bins[3])) else 0)\n",
    "\n",
    "\n",
    "def pip_extract_hascabin(this_dataset):\n",
    "    \n",
    "    \"\"\" Create feature based on owning a cabin \"\"\"\n",
    "\n",
    "    this_dataset['has_cabin'] = this_dataset['Cabin'].map(lambda s: 1 if not pd.isnull(s) else 0)\n",
    "    \n",
    "\n",
    "def pip_impute_embark(this_dataset):\n",
    "    \n",
    "    \"\"\" Impute Embark based on most frequent \"\"\"\n",
    "\n",
    "    this_dataset['Embarked'] = this_dataset['Embarked'].replace(np.nan, 'S')\n",
    "\n",
    "    \n",
    "def pip_categorize(this_dataset):\n",
    "    \n",
    "    # convert Embarked (C,S) into (0,1)*2; Q has (0,0)\n",
    "    this_dataset[\"port_embark_C\"] = this_dataset['Embarked'].map(lambda s: 1 if (s=='C') else 0)\n",
    "    this_dataset[\"port_embark_S\"] = this_dataset['Embarked'].map(lambda s: 1 if (s=='S') else 0)\n",
    "\n",
    "    # convert sex into 0:male, 1:female\n",
    "    sex_mapping = {\"male\": 0, \"female\": 1}\n",
    "    this_dataset['is_female'] = this_dataset['Sex'].map(sex_mapping)\n",
    "    \n",
    "    #convert passenger class too (0,1)*2; class3 has (0,0)\n",
    "    this_dataset[\"class_1\"] = this_dataset['Pclass'].map(lambda s: 1 if (s==1) else 0)\n",
    "    this_dataset[\"class_2\"] = this_dataset['Pclass'].map(lambda s: 1 if (s==2) else 0)\n"
   ]
  },
  {
   "cell_type": "markdown",
   "metadata": {},
   "source": [
    "# Part 1: explore the training data set.\n",
    "There are 891 passengers, 1 response and 10 features in the training set. \n",
    "- survived: 0 or 1. 342 passengers survived.\n",
    "- Pclass: integer 1 or 2 or 3; mean 2.309, stdev 0.836.\n",
    "- Name: string object, could sort out families and loop on outcome of family members (not implemented here)\n",
    "- sex: string male/female\n",
    "- age: float between 0.42 and 80; mean 29.699, stdev 14.526. \n",
    "    714 entries -> 177 entries missing\n",
    "- SibSp: integer 0 to 8. mean 0.523, stdev 1.103. = sibling/spouse\n",
    "- Parch: integer 0 to 6. mean 0.382, stdev 0.806. = parent/child\n",
    "- Ticket: string object (letters and numbers)\n",
    "- Fare: float between 0 and 512.329. mean 32.204, stdev 49.693.\n",
    "- Cabin: object. \n",
    "    204 entries only.\n",
    "- Embarked: string object (C = Cherbourg, Q = Queenstown, S = Southampton). \n",
    "    889 entries -> 2 entries missing\n"
   ]
  },
  {
   "cell_type": "code",
   "execution_count": 2,
   "metadata": {},
   "outputs": [
    {
     "name": "stdout",
     "output_type": "stream",
     "text": [
      "<class 'pandas.core.frame.DataFrame'>\n",
      "RangeIndex: 891 entries, 0 to 890\n",
      "Data columns (total 12 columns):\n",
      "PassengerId    891 non-null int64\n",
      "Survived       891 non-null int64\n",
      "Pclass         891 non-null int64\n",
      "Name           891 non-null object\n",
      "Sex            891 non-null object\n",
      "Age            714 non-null float64\n",
      "SibSp          891 non-null int64\n",
      "Parch          891 non-null int64\n",
      "Ticket         891 non-null object\n",
      "Fare           891 non-null float64\n",
      "Cabin          204 non-null object\n",
      "Embarked       889 non-null object\n",
      "dtypes: float64(2), int64(5), object(5)\n",
      "memory usage: 83.7+ KB\n",
      "None\n"
     ]
    }
   ],
   "source": [
    "# Load the training data and print out general information\n",
    "\n",
    "original_set = load_this_data(DATA_PATH,\"train.csv\")\n",
    "original_set_save = original_set.copy()\n",
    "\n",
    "print(original_set.info())"
   ]
  },
  {
   "cell_type": "code",
   "execution_count": 3,
   "metadata": {},
   "outputs": [
    {
     "data": {
      "text/plain": [
       "<seaborn.axisgrid.FacetGrid at 0x1a1c8fe320>"
      ]
     },
     "execution_count": 3,
     "metadata": {},
     "output_type": "execute_result"
    },
    {
     "data": {
      "image/png": "[encoded data removed]",
      "text/plain": [
       "<Figure size 216x216 with 1 Axes>"
      ]
     },
     "metadata": {
      "needs_background": "light"
     },
     "output_type": "display_data"
    }
   ],
   "source": [
    "# siblings/spouse\n",
    "sns.catplot(x=\"SibSp\",y=\"Survived\",data=original_set,kind=\"bar\",height=3)"
   ]
  },
  {
   "cell_type": "code",
   "execution_count": 4,
   "metadata": {},
   "outputs": [
    {
     "data": {
      "text/plain": [
       "<seaborn.axisgrid.FacetGrid at 0x1a1cc8e908>"
      ]
     },
     "execution_count": 4,
     "metadata": {},
     "output_type": "execute_result"
    },
    {
     "data": {
      "image/png": "[encoded data removed]",
      "text/plain": [
       "<Figure size 216x216 with 1 Axes>"
      ]
     },
     "metadata": {
      "needs_background": "light"
     },
     "output_type": "display_data"
    }
   ],
   "source": [
    "# parent/child\n",
    "sns.catplot(x=\"Parch\",y=\"Survived\",data=original_set,kind=\"bar\",height=3)"
   ]
  },
  {
   "cell_type": "code",
   "execution_count": 5,
   "metadata": {},
   "outputs": [
    {
     "data": {
      "text/plain": [
       "<seaborn.axisgrid.FacetGrid at 0x1a1cc1ad68>"
      ]
     },
     "execution_count": 5,
     "metadata": {},
     "output_type": "execute_result"
    },
    {
     "data": {
      "image/png": "[encoded data removed]",
      "text/plain": [
       "<Figure size 216x216 with 1 Axes>"
      ]
     },
     "metadata": {
      "needs_background": "light"
     },
     "output_type": "display_data"
    }
   ],
   "source": [
    "# passenger class\n",
    "sns.catplot(x=\"Pclass\",y=\"Survived\",data=original_set,kind=\"bar\",height=3)"
   ]
  },
  {
   "cell_type": "code",
   "execution_count": 6,
   "metadata": {},
   "outputs": [
    {
     "data": {
      "text/plain": [
       "<seaborn.axisgrid.FacetGrid at 0x1a1ccb1c88>"
      ]
     },
     "execution_count": 6,
     "metadata": {},
     "output_type": "execute_result"
    },
    {
     "data": {
      "image/png": "[encoded data removed]",
      "text/plain": [
       "<Figure size 432x216 with 2 Axes>"
      ]
     },
     "metadata": {
      "needs_background": "light"
     },
     "output_type": "display_data"
    }
   ],
   "source": [
    "# passenger class and sex\n",
    "sns.catplot(\"Pclass\", col=\"Sex\",data=original_set,kind=\"count\",height=3)"
   ]
  },
  {
   "cell_type": "code",
   "execution_count": 7,
   "metadata": {
    "scrolled": true
   },
   "outputs": [
    {
     "data": {
      "text/plain": [
       "<seaborn.axisgrid.FacetGrid at 0x1a1ceb09e8>"
      ]
     },
     "execution_count": 7,
     "metadata": {},
     "output_type": "execute_result"
    },
    {
     "data": {
      "image/png": "[encoded data removed]",
      "text/plain": [
       "<Figure size 216x216 with 1 Axes>"
      ]
     },
     "metadata": {
      "needs_background": "light"
     },
     "output_type": "display_data"
    }
   ],
   "source": [
    "# embarkation port\n",
    "sns.catplot(x=\"Embarked\",y=\"Survived\",data=original_set,kind=\"bar\",height=3)"
   ]
  },
  {
   "cell_type": "code",
   "execution_count": 8,
   "metadata": {},
   "outputs": [
    {
     "data": {
      "text/plain": [
       "<seaborn.axisgrid.FacetGrid at 0x1a1cdb8278>"
      ]
     },
     "execution_count": 8,
     "metadata": {},
     "output_type": "execute_result"
    },
    {
     "data": {
      "image/png": "[encoded data removed]",
      "text/plain": [
       "<Figure size 258.375x216 with 1 Axes>"
      ]
     },
     "metadata": {
      "needs_background": "light"
     },
     "output_type": "display_data"
    }
   ],
   "source": [
    "# passenger sex\n",
    "sns.catplot(x=\"Sex\",y=\"Survived\",hue='Pclass',data=original_set,kind=\"bar\",height=3)"
   ]
  },
  {
   "cell_type": "code",
   "execution_count": 9,
   "metadata": {
    "scrolled": true
   },
   "outputs": [
    {
     "data": {
      "text/plain": [
       "<matplotlib.axes._subplots.AxesSubplot at 0x1a1d0e30b8>"
      ]
     },
     "execution_count": 9,
     "metadata": {},
     "output_type": "execute_result"
    },
    {
     "data": {
      "image/png": "[encoded data removed]",
      "text/plain": [
       "<Figure size 432x288 with 1 Axes>"
      ]
     },
     "metadata": {
      "needs_background": "light"
     },
     "output_type": "display_data"
    }
   ],
   "source": [
    "# fare filling missing values\n",
    "pip_impute_fare(original_set)    \n",
    "\n",
    "# fare distribution\n",
    "fare_survived = original_set.Fare[(original_set.Survived == 1) & (original_set.Fare <100)]\n",
    "sns.distplot(fare_survived.dropna())\n",
    "\n",
    "fare_notsurvived = original_set.Fare[(original_set.Survived == 0) & (original_set.Fare <100)]\n",
    "sns.distplot(fare_notsurvived.dropna())"
   ]
  },
  {
   "cell_type": "code",
   "execution_count": 10,
   "metadata": {
    "scrolled": false
   },
   "outputs": [
    {
     "data": {
      "text/plain": [
       "<matplotlib.axes._subplots.AxesSubplot at 0x1a1d17a358>"
      ]
     },
     "execution_count": 10,
     "metadata": {},
     "output_type": "execute_result"
    },
    {
     "data": {
      "image/png": "[encoded data removed]",
      "text/plain": [
       "<Figure size 432x288 with 1 Axes>"
      ]
     },
     "metadata": {
      "needs_background": "light"
     },
     "output_type": "display_data"
    }
   ],
   "source": [
    "# we will impute age based on title (see below)\n",
    "\n",
    "# age distributions\n",
    "age_survived = original_set.Age[original_set.Survived == 1]\n",
    "sns.distplot(age_survived.dropna())\n",
    "\n",
    "age_notsurvived = original_set.Age[original_set.Survived == 0]\n",
    "sns.distplot(age_notsurvived.dropna())"
   ]
  },
  {
   "cell_type": "markdown",
   "metadata": {},
   "source": [
    "# explore new features"
   ]
  },
  {
   "cell_type": "markdown",
   "metadata": {},
   "source": [
    "- title in name"
   ]
  },
  {
   "cell_type": "code",
   "execution_count": 11,
   "metadata": {},
   "outputs": [
    {
     "data": {
      "text/plain": [
       "Mr              517\n",
       "Miss            182\n",
       "Mrs             125\n",
       "Master           40\n",
       "Dr                7\n",
       "Rev               6\n",
       "Major             2\n",
       "Mlle              2\n",
       "Col               2\n",
       "Jonkheer          1\n",
       "Ms                1\n",
       "Sir               1\n",
       "Capt              1\n",
       "Mme               1\n",
       "Lady              1\n",
       "the Countess      1\n",
       "Don               1\n",
       "Name: Title, dtype: int64"
      ]
     },
     "execution_count": 11,
     "metadata": {},
     "output_type": "execute_result"
    },
    {
     "data": {
      "image/png": "[encoded data removed]",
      "text/plain": [
       "<Figure size 864x216 with 1 Axes>"
      ]
     },
     "metadata": {
      "needs_background": "light"
     },
     "output_type": "display_data"
    }
   ],
   "source": [
    "# Get title from name\n",
    "pip_extract_title(original_set)\n",
    "\n",
    "#plot\n",
    "sns.catplot(x=\"Title\",y=\"Survived\",data=original_set,kind=\"bar\",height=3,aspect=4)\n",
    "original_set[\"Title\"].value_counts()"
   ]
  },
  {
   "cell_type": "code",
   "execution_count": 12,
   "metadata": {},
   "outputs": [],
   "source": [
    "# Convert title to categorical values \n",
    "pip_extract_titlecat(original_set)"
   ]
  },
  {
   "cell_type": "markdown",
   "metadata": {},
   "source": [
    "- family size"
   ]
  },
  {
   "cell_type": "code",
   "execution_count": 13,
   "metadata": {
    "scrolled": true
   },
   "outputs": [
    {
     "data": {
      "text/plain": [
       "<seaborn.axisgrid.FacetGrid at 0x1a1d357fd0>"
      ]
     },
     "execution_count": 13,
     "metadata": {},
     "output_type": "execute_result"
    },
    {
     "data": {
      "image/png": "[encoded data removed]",
      "text/plain": [
       "<Figure size 216x216 with 1 Axes>"
      ]
     },
     "metadata": {
      "needs_background": "light"
     },
     "output_type": "display_data"
    }
   ],
   "source": [
    "# is a big, smallish family, or not a family\n",
    "pip_extract_familycat(original_set)\n",
    "\n",
    "#plot\n",
    "#sns.catplot(x=\"fam_small\",y=\"Survived\",data=original_set,kind=\"bar\",height=3)\n",
    "sns.catplot(x=\"fam_big\",y=\"Survived\",data=original_set,kind=\"bar\",height=3)"
   ]
  },
  {
   "cell_type": "markdown",
   "metadata": {},
   "source": [
    "- relatives onboard"
   ]
  },
  {
   "cell_type": "code",
   "execution_count": 14,
   "metadata": {},
   "outputs": [],
   "source": [
    "pip_extract_relatives(original_set)"
   ]
  },
  {
   "cell_type": "markdown",
   "metadata": {},
   "source": [
    "- fare group"
   ]
  },
  {
   "cell_type": "code",
   "execution_count": 15,
   "metadata": {},
   "outputs": [],
   "source": [
    "#make 2 groups: cheap (1,0), moderate (0,1), expensive (0,0)\n",
    "pip_extract_faregroup(original_set)"
   ]
  },
  {
   "cell_type": "markdown",
   "metadata": {},
   "source": [
    "- age group"
   ]
  },
  {
   "cell_type": "code",
   "execution_count": 16,
   "metadata": {
    "scrolled": true
   },
   "outputs": [],
   "source": [
    "#make 3 groups: baby, child, adult; eldest will be 0\n",
    "# age imputed based on title\n",
    "pip_extract_agegroup(original_set)"
   ]
  },
  {
   "cell_type": "markdown",
   "metadata": {},
   "source": [
    "- cabin"
   ]
  },
  {
   "cell_type": "code",
   "execution_count": 17,
   "metadata": {},
   "outputs": [],
   "source": [
    "#many nan entries. has a cabin or not\n",
    "pip_extract_hascabin(original_set)"
   ]
  },
  {
   "cell_type": "markdown",
   "metadata": {},
   "source": [
    "# categorize features and scale"
   ]
  },
  {
   "cell_type": "code",
   "execution_count": 18,
   "metadata": {},
   "outputs": [],
   "source": [
    "#impute embark\n",
    "pip_impute_embark(original_set)    \n",
    "\n",
    "#categorize (Embark, Sex, Pclass)\n",
    "pip_categorize(original_set)"
   ]
  },
  {
   "cell_type": "code",
   "execution_count": 19,
   "metadata": {},
   "outputs": [],
   "source": [
    "# Separate set into training and validation sets\n",
    "test_size = 0.25\n",
    "seed = 0\n",
    "training_set, validation_set = train_test_split(original_set, \\\n",
    "                                             test_size=test_size, random_state=seed)"
   ]
  },
  {
   "cell_type": "code",
   "execution_count": 20,
   "metadata": {},
   "outputs": [
    {
     "data": {
      "text/plain": [
       "Survived         1.000000\n",
       "is_female        0.548061\n",
       "is_mrs           0.359825\n",
       "is_miss          0.328163\n",
       "has_cabin        0.299929\n",
       "class_1          0.265194\n",
       "fam_small        0.232800\n",
       "Fare             0.228372\n",
       "port_embark_C    0.147703\n",
       "class_2          0.111643\n",
       "age_group1       0.103243\n",
       "is_master        0.088741\n",
       "is_fancy         0.084670\n",
       "Parch            0.081584\n",
       "age_group2       0.074286\n",
       "fare_group2      0.055076\n",
       "relatives_on     0.005342\n",
       "PassengerId     -0.011614\n",
       "is_rare         -0.039365\n",
       "SibSp           -0.050014\n",
       "Age             -0.083146\n",
       "age_group3      -0.093069\n",
       "fam_big         -0.106445\n",
       "port_embark_S   -0.132781\n",
       "fare_group1     -0.261434\n",
       "Pclass          -0.326264\n",
       "is_mr           -0.563678\n",
       "Name: Survived, dtype: float64"
      ]
     },
     "execution_count": 20,
     "metadata": {},
     "output_type": "execute_result"
    }
   ],
   "source": [
    "# check out correlation coefficients : the sex, fare and class seem important\n",
    "corr_matrix = training_set.corr()\n",
    "corr_matrix[\"Survived\"].sort_values(ascending=False)"
   ]
  },
  {
   "cell_type": "code",
   "execution_count": 21,
   "metadata": {},
   "outputs": [
    {
     "name": "stdout",
     "output_type": "stream",
     "text": [
      "(668, 24)\n"
     ]
    }
   ],
   "source": [
    "# drop originals of some extracted features\n",
    "\n",
    "list_features_drop = [\"Age\",\"Title\",\"Name\",\"Ticket\",\"Cabin\",\"Fare\",\\\n",
    "                      \"Embarked\",\"Pclass\",\"Sex\"]\n",
    "                    #  \"fam_small\",\"fam_big\",\"relatives_on\"]\n",
    "                    #  \"Parch\",\"SibSp\",\\\n",
    "                    #  \"age_group\",\"fare_group\",\\\n",
    "                    #  \"has_cabin\"]\n",
    "\n",
    "training_set = training_set.drop(labels=list_features_drop,axis=1)\n",
    "validation_set = validation_set.drop(labels=list_features_drop,axis=1)\n",
    "\n",
    "print(training_set.shape)"
   ]
  },
  {
   "cell_type": "code",
   "execution_count": 22,
   "metadata": {},
   "outputs": [
    {
     "name": "stdout",
     "output_type": "stream",
     "text": [
      "(668, 22) (668,)\n"
     ]
    }
   ],
   "source": [
    "# Extract dataset\n",
    "\n",
    "X_data = training_set.drop([\"Survived\",\"PassengerId\"],axis=1)\n",
    "feature_list = X_data.columns\n",
    "\n",
    "X_data_val = validation_set.drop([\"Survived\",\"PassengerId\"],axis=1)\n",
    "\n",
    "y_data = training_set[\"Survived\"]\n",
    "y_data_val = validation_set[\"Survived\"]\n",
    "\n",
    "print(X_data.shape,y_data.shape)"
   ]
  },
  {
   "cell_type": "code",
   "execution_count": 23,
   "metadata": {},
   "outputs": [
    {
     "name": "stdout",
     "output_type": "stream",
     "text": [
      "<class 'pandas.core.frame.DataFrame'>\n",
      "Int64Index: 668 entries, 105 to 684\n",
      "Data columns (total 22 columns):\n",
      "SibSp            668 non-null int64\n",
      "Parch            668 non-null int64\n",
      "is_mr            668 non-null int64\n",
      "is_mrs           668 non-null int64\n",
      "is_miss          668 non-null int64\n",
      "is_master        668 non-null int64\n",
      "is_fancy         668 non-null int64\n",
      "is_rare          668 non-null int64\n",
      "fam_small        668 non-null int64\n",
      "fam_big          668 non-null int64\n",
      "relatives_on     668 non-null int64\n",
      "fare_group1      668 non-null int64\n",
      "fare_group2      668 non-null int64\n",
      "age_group1       668 non-null int64\n",
      "age_group2       668 non-null int64\n",
      "age_group3       668 non-null int64\n",
      "has_cabin        668 non-null int64\n",
      "port_embark_C    668 non-null int64\n",
      "port_embark_S    668 non-null int64\n",
      "is_female        668 non-null int64\n",
      "class_1          668 non-null int64\n",
      "class_2          668 non-null int64\n",
      "dtypes: int64(22)\n",
      "memory usage: 120.0 KB\n"
     ]
    }
   ],
   "source": [
    "X_data.info()"
   ]
  },
  {
   "cell_type": "code",
   "execution_count": 24,
   "metadata": {},
   "outputs": [],
   "source": [
    "from sklearn.preprocessing import MinMaxScaler\n",
    "\n",
    "scaler = MinMaxScaler()\n",
    "X_train = scaler.fit_transform(X_data)\n",
    "X_val = scaler.transform(X_data_val)\n",
    "\n",
    "y_train = y_data\n",
    "y_val = y_data_val"
   ]
  },
  {
   "cell_type": "markdown",
   "metadata": {},
   "source": [
    "# train several models"
   ]
  },
  {
   "cell_type": "code",
   "execution_count": 25,
   "metadata": {
    "scrolled": true
   },
   "outputs": [],
   "source": [
    "from sklearn.ensemble import ExtraTreesClassifier, RandomForestClassifier, \\\n",
    "    VotingClassifier, AdaBoostClassifier, GradientBoostingClassifier\n",
    "from sklearn.tree import DecisionTreeClassifier\n",
    "from sklearn.svm import SVC\n",
    "from sklearn.linear_model import LogisticRegression\n",
    "from sklearn.metrics import accuracy_score\n",
    "from sklearn.model_selection import StratifiedKFold\n",
    "from xgboost import XGBClassifier\n",
    "\n",
    "\n",
    "kfold = StratifiedKFold(n_splits=10)\n",
    "\n",
    "log_reg = LogisticRegression(solver=\"liblinear\", random_state=42)\n",
    "svm_clf = SVC(gamma=\"auto\", random_state=42)\n",
    "rnd_clf = RandomForestClassifier(n_estimators=100, random_state=42)\n",
    "extra_clf = ExtraTreesClassifier(n_estimators=100, random_state=42)\n",
    "adab_clf = AdaBoostClassifier(DecisionTreeClassifier(max_depth=1), n_estimators=200,\n",
    "    algorithm=\"SAMME.R\", learning_rate=1, random_state=42)\n",
    "gb_clf = GradientBoostingClassifier(n_estimators=100, random_state=42)\n",
    "xgb_clf = XGBClassifier(n_estimators=100, random_state=42)\n",
    "\n",
    "estimators = [log_reg, svm_clf, rnd_clf, extra_clf, adab_clf, gb_clf, xgb_clf]\n",
    "estimators_list = [ \"LogisticRegression\",\\\n",
    "                    \"SVC\",\\\n",
    "                    \"RandomForestClassifier\",\\\n",
    "                    \"ExtraTreesClassifier\",\\\n",
    "                    \"AdaBoostClassifier\",\\\n",
    "                    \"GradientBoosting\",\\\n",
    "                    \"XGBoost\"]\n",
    "\n",
    "y_train_scores_mean = []\n",
    "y_train_scores_std = []\n",
    "\n",
    "for estimator in estimators:\n",
    "    this_scores = cross_val_score(estimator, X_train, y_train, cv=kfold, scoring=\"accuracy\")\n",
    "    estimator.fit(X_train, y_train)\n",
    "    y_train_scores_mean.append(this_scores.mean())\n",
    "    y_train_scores_std.append(this_scores.std())"
   ]
  },
  {
   "cell_type": "code",
   "execution_count": 26,
   "metadata": {},
   "outputs": [
    {
     "data": {
      "text/plain": [
       "[0.830958842152872,\n",
       " 0.8279511533242877,\n",
       " 0.7904115784712801,\n",
       " 0.7948439620081411,\n",
       " 0.8159203980099502,\n",
       " 0.8143374038896427,\n",
       " 0.8249208502939845]"
      ]
     },
     "execution_count": 26,
     "metadata": {},
     "output_type": "execute_result"
    }
   ],
   "source": [
    "y_train_scores_mean"
   ]
  },
  {
   "cell_type": "code",
   "execution_count": 27,
   "metadata": {
    "scrolled": true
   },
   "outputs": [
    {
     "data": {
      "text/plain": [
       "Text(0.5, 0, 'Average cv score')"
      ]
     },
     "execution_count": 27,
     "metadata": {},
     "output_type": "execute_result"
    },
    {
     "data": {
      "image/png": "[encoded data removed]",
      "text/plain": [
       "<Figure size 432x288 with 1 Axes>"
      ]
     },
     "metadata": {
      "needs_background": "light"
     },
     "output_type": "display_data"
    }
   ],
   "source": [
    "p1 = sns.barplot(x=y_train_scores_mean,y=estimators_list,orient = \"h\",**{'xerr':y_train_scores_std})\n",
    "p1.set(xlim=(.6,1))\n",
    "p1.set_xlabel(\"Average cv score\")"
   ]
  },
  {
   "cell_type": "code",
   "execution_count": 28,
   "metadata": {},
   "outputs": [],
   "source": [
    "def plot_feature_importance(estimator,title):\n",
    "    feature_importance = estimator.feature_importances_\n",
    "    isort = (np.argsort(feature_importance))[::-1]\n",
    "    x_values = feature_importance[isort[0:12]]\n",
    "    y_values = feature_list[isort[0:12]]\n",
    "        \n",
    "    pp = sns.barplot(x=x_values,y=y_values,orient = \"h\")\n",
    "    pp.set_xlabel(\"Importance\")\n",
    "    pp.set_ylabel(\"Feature\")\n",
    "    pp.set_title(title)"
   ]
  },
  {
   "cell_type": "code",
   "execution_count": 29,
   "metadata": {},
   "outputs": [
    {
     "data": {
      "image/png": "[encoded data removed]",
      "text/plain": [
       "<Figure size 432x288 with 1 Axes>"
      ]
     },
     "metadata": {
      "needs_background": "light"
     },
     "output_type": "display_data"
    }
   ],
   "source": [
    "plot_feature_importance(gb_clf,\"GB\")"
   ]
  },
  {
   "cell_type": "code",
   "execution_count": 30,
   "metadata": {},
   "outputs": [
    {
     "data": {
      "image/png": "[encoded data removed]",
      "text/plain": [
       "<Figure size 432x288 with 1 Axes>"
      ]
     },
     "metadata": {
      "needs_background": "light"
     },
     "output_type": "display_data"
    }
   ],
   "source": [
    "plot_feature_importance(rnd_clf,\"RF\")"
   ]
  },
  {
   "cell_type": "markdown",
   "metadata": {},
   "source": [
    "# fine-tune the best ones \n",
    "(GradientBoosting, RandomForest, AdaBoostClassifier, LogisticRegression, SVC for check)"
   ]
  },
  {
   "cell_type": "code",
   "execution_count": 31,
   "metadata": {},
   "outputs": [],
   "source": [
    "final_best_scores = []\n",
    "final_clf_list = [\"GradientBoostingClassifier\",\"RandomForestClassifier\",\\\n",
    "                  \"AdaBoostClassifier\",\"LogisticRegression\",\"SVC\",\"XGBoost\"]"
   ]
  },
  {
   "cell_type": "code",
   "execution_count": 32,
   "metadata": {
    "scrolled": true
   },
   "outputs": [
    {
     "name": "stdout",
     "output_type": "stream",
     "text": [
      "Fitting 10 folds for each of 162 candidates, totalling 1620 fits\n"
     ]
    },
    {
     "name": "stderr",
     "output_type": "stream",
     "text": [
      "[Parallel(n_jobs=-1)]: Using backend LokyBackend with 4 concurrent workers.\n",
      "[Parallel(n_jobs=-1)]: Done 202 tasks      | elapsed:    3.9s\n",
      "[Parallel(n_jobs=-1)]: Done 1620 out of 1620 | elapsed:   12.5s finished\n"
     ]
    }
   ],
   "source": [
    "# Gradient boosting tuning\n",
    "from sklearn.ensemble import GradientBoostingClassifier\n",
    "from sklearn.model_selection import GridSearchCV \n",
    "\n",
    "gb_clf = GradientBoostingClassifier(random_state=42)\n",
    "gb_param_grid = {'loss' : [\"deviance\"],\n",
    "                 'n_estimators' : [10,20,30],\n",
    "                 'learning_rate': [0.01,0.03,0.1],\n",
    "                 'max_depth': [2,3,4],\n",
    "                 'min_samples_leaf': [0.03,0.1],\n",
    "                 'max_features': [0.1, 0.3, 0.5] \n",
    "                }\n",
    "\n",
    "gb_search = GridSearchCV(gb_clf, param_grid=gb_param_grid, cv=kfold, scoring=\"accuracy\", n_jobs=-1, verbose=1)\n",
    "gb_search.fit(X_train,y_train)\n",
    "\n",
    "gb_clf_best = gb_search.best_estimator_\n",
    "save_results_gb = gb_search.cv_results_\n",
    "\n",
    "# Best score\n",
    "final_best_scores.append(gb_search.best_score_)"
   ]
  },
  {
   "cell_type": "code",
   "execution_count": 33,
   "metadata": {},
   "outputs": [
    {
     "data": {
      "text/plain": [
       "(0.8323353293413174,\n",
       " GradientBoostingClassifier(criterion='friedman_mse', init=None,\n",
       "                            learning_rate=0.1, loss='deviance', max_depth=3,\n",
       "                            max_features=0.3, max_leaf_nodes=None,\n",
       "                            min_impurity_decrease=0.0, min_impurity_split=None,\n",
       "                            min_samples_leaf=0.03, min_samples_split=2,\n",
       "                            min_weight_fraction_leaf=0.0, n_estimators=20,\n",
       "                            n_iter_no_change=None, presort='auto',\n",
       "                            random_state=42, subsample=1.0, tol=0.0001,\n",
       "                            validation_fraction=0.1, verbose=0,\n",
       "                            warm_start=False))"
      ]
     },
     "execution_count": 33,
     "metadata": {},
     "output_type": "execute_result"
    }
   ],
   "source": [
    "gb_search.best_score_, gb_clf_best"
   ]
  },
  {
   "cell_type": "markdown",
   "metadata": {},
   "source": [
    "- check overfitting on validation set with early stopping"
   ]
  },
  {
   "cell_type": "code",
   "execution_count": 34,
   "metadata": {
    "scrolled": true
   },
   "outputs": [
    {
     "name": "stdout",
     "output_type": "stream",
     "text": [
      "15\n"
     ]
    },
    {
     "data": {
      "image/png": "[encoded data removed]",
      "text/plain": [
       "<Figure size 432x288 with 1 Axes>"
      ]
     },
     "metadata": {
      "needs_background": "light"
     },
     "output_type": "display_data"
    }
   ],
   "source": [
    "from sklearn.metrics import mean_squared_error\n",
    "\n",
    "errors = [mean_squared_error(y_val, y_pred)\n",
    "          for y_pred in gb_clf_best.staged_predict(X_val)]\n",
    "bst_n_estimators = np.argmin(errors) + 1\n",
    "min_error = np.min(errors)\n",
    "\n",
    "print(bst_n_estimators)\n",
    "\n",
    "plt.plot(errors, \"b.-\")\n",
    "plt.plot([bst_n_estimators, bst_n_estimators], [0, min_error], \"k--\")\n",
    "plt.plot([0, 50], [min_error, min_error], \"k--\")\n",
    "plt.plot(bst_n_estimators, min_error, \"ko\")\n",
    "plt.xlabel(\"Number of trees\")\n",
    "plt.ylabel(\"Validation error\")\n",
    "plt.title(\"Early stopping\", fontsize=14)\n",
    "plt.show()"
   ]
  },
  {
   "cell_type": "markdown",
   "metadata": {},
   "source": [
    "- plot learning curves"
   ]
  },
  {
   "cell_type": "code",
   "execution_count": 35,
   "metadata": {},
   "outputs": [],
   "source": [
    "def plot_learning_curves(model, Xt, yt, Xv, yv):\n",
    "    train_errors, val_errors = [], []\n",
    "    for m in range(10, len(X_train)):\n",
    "        model.fit(X_train[:m], y_train[:m])\n",
    "        y_train_predict = model.predict(X_train[:m])\n",
    "        y_val_predict = model.predict(X_val)\n",
    "        train_errors.append(mean_squared_error(y_train[:m], y_train_predict))\n",
    "        val_errors.append(mean_squared_error(y_val, y_val_predict))\n",
    "\n",
    "    print(np.sqrt(train_errors[-1]),np.sqrt(val_errors[-1]))\n",
    "    plt.plot(np.sqrt(train_errors), \"r-+\", linewidth=2, label=\"train\")\n",
    "    plt.plot(np.sqrt(val_errors), \"b-\", linewidth=3, label=\"val\")\n",
    "    plt.legend(loc=\"upper right\", fontsize=14)\n",
    "    plt.xlabel(\"Training set size\", fontsize=14)\n",
    "    plt.ylabel(\"RMSE\", fontsize=14)\n",
    "    plt.show() "
   ]
  },
  {
   "cell_type": "code",
   "execution_count": 36,
   "metadata": {
    "scrolled": true
   },
   "outputs": [
    {
     "name": "stdout",
     "output_type": "stream",
     "text": [
      "0.40610040781730977 0.41819599756176723\n"
     ]
    },
    {
     "data": {
      "image/png": "[encoded data removed]",
      "text/plain": [
       "<Figure size 432x288 with 1 Axes>"
      ]
     },
     "metadata": {
      "needs_background": "light"
     },
     "output_type": "display_data"
    }
   ],
   "source": [
    "plot_learning_curves(gb_clf_best, X_train, y_train, X_val, y_val)"
   ]
  },
  {
   "cell_type": "code",
   "execution_count": 37,
   "metadata": {},
   "outputs": [
    {
     "name": "stdout",
     "output_type": "stream",
     "text": [
      "Fitting 10 folds for each of 54 candidates, totalling 540 fits\n"
     ]
    },
    {
     "name": "stderr",
     "output_type": "stream",
     "text": [
      "[Parallel(n_jobs=-1)]: Using backend LokyBackend with 4 concurrent workers.\n",
      "[Parallel(n_jobs=-1)]: Done 540 out of 540 | elapsed:    3.8s finished\n",
      "/Users/dcormier/anaconda3/envs/dswork/lib/python3.7/site-packages/sklearn/model_selection/_search.py:813: DeprecationWarning: The default of the `iid` parameter will change from True to False in version 0.22 and will be removed in 0.24. This will change numeric results when test-set sizes are unequal.\n",
      "  DeprecationWarning)\n"
     ]
    }
   ],
   "source": [
    "# Random Forest tuning\n",
    "\n",
    "rnd_clf = RandomForestClassifier(random_state=42)\n",
    "rnd_param_grid = {\"n_estimators\" :[10,20,30],\n",
    "                  \"max_depth\": [3,4,5],\n",
    "                  \"min_samples_leaf\": [0.03, 0.1],\n",
    "                  \"max_features\": [0.1, 0.3, 0.5]\n",
    "                 }\n",
    "\n",
    "rnd_search = GridSearchCV(rnd_clf, param_grid=rnd_param_grid, cv=kfold, scoring=\"accuracy\", n_jobs=-1, verbose=1)\n",
    "rnd_search.fit(X_train,y_train)\n",
    "\n",
    "rnd_clf_best = rnd_search.best_estimator_\n",
    "save_results_rnd = rnd_search.cv_results_\n",
    "\n",
    "# Best score\n",
    "final_best_scores.append(rnd_search.best_score_)"
   ]
  },
  {
   "cell_type": "code",
   "execution_count": 38,
   "metadata": {},
   "outputs": [
    {
     "data": {
      "text/plain": [
       "(0.8308383233532934,\n",
       " RandomForestClassifier(bootstrap=True, class_weight=None, criterion='gini',\n",
       "                        max_depth=3, max_features=0.5, max_leaf_nodes=None,\n",
       "                        min_impurity_decrease=0.0, min_impurity_split=None,\n",
       "                        min_samples_leaf=0.03, min_samples_split=2,\n",
       "                        min_weight_fraction_leaf=0.0, n_estimators=10,\n",
       "                        n_jobs=None, oob_score=False, random_state=42, verbose=0,\n",
       "                        warm_start=False))"
      ]
     },
     "execution_count": 38,
     "metadata": {},
     "output_type": "execute_result"
    }
   ],
   "source": [
    "rnd_search.best_score_, rnd_clf_best"
   ]
  },
  {
   "cell_type": "code",
   "execution_count": 39,
   "metadata": {},
   "outputs": [
    {
     "name": "stdout",
     "output_type": "stream",
     "text": [
      "0.40794214247145133 0.41279969409381373\n"
     ]
    },
    {
     "data": {
      "image/png": "[encoded data removed]",
      "text/plain": [
       "<Figure size 432x288 with 1 Axes>"
      ]
     },
     "metadata": {
      "needs_background": "light"
     },
     "output_type": "display_data"
    }
   ],
   "source": [
    "plot_learning_curves(rnd_clf_best, X_train, y_train, X_val, y_val)"
   ]
  },
  {
   "cell_type": "code",
   "execution_count": 40,
   "metadata": {},
   "outputs": [
    {
     "name": "stdout",
     "output_type": "stream",
     "text": [
      "Fitting 10 folds for each of 54 candidates, totalling 540 fits\n"
     ]
    },
    {
     "name": "stderr",
     "output_type": "stream",
     "text": [
      "[Parallel(n_jobs=-1)]: Using backend LokyBackend with 4 concurrent workers.\n",
      "[Parallel(n_jobs=-1)]: Done 416 tasks      | elapsed:    7.4s\n",
      "[Parallel(n_jobs=-1)]: Done 540 out of 540 | elapsed:    9.5s finished\n"
     ]
    }
   ],
   "source": [
    "# AdaBoost tuning\n",
    "\n",
    "adab_clf = AdaBoostClassifier(DecisionTreeClassifier(max_depth=1), random_state=42)\n",
    "\n",
    "adab_param_grid = {\"base_estimator__min_samples_leaf\": [0.03, 0.1],\n",
    "                   \"base_estimator__max_features\": [0.1, 0.3, 0.5],\n",
    "                   \"n_estimators\" :[20,40,60],\n",
    "                   \"learning_rate\":  [0.03,0.1,0.3]\n",
    "                  }\n",
    "\n",
    "adab_search = GridSearchCV(adab_clf, param_grid=adab_param_grid, cv=kfold, scoring=\"accuracy\", n_jobs=-1, verbose=1)\n",
    "adab_search.fit(X_train,y_train)\n",
    "\n",
    "adab_clf_best = adab_search.best_estimator_\n",
    "save_results_adab = adab_search.cv_results_\n",
    "\n",
    "# Best score\n",
    "final_best_scores.append(adab_search.best_score_)"
   ]
  },
  {
   "cell_type": "code",
   "execution_count": 41,
   "metadata": {},
   "outputs": [
    {
     "data": {
      "text/plain": [
       "(0.8323353293413174, AdaBoostClassifier(algorithm='SAMME.R',\n",
       "                    base_estimator=DecisionTreeClassifier(class_weight=None,\n",
       "                                                          criterion='gini',\n",
       "                                                          max_depth=1,\n",
       "                                                          max_features=0.1,\n",
       "                                                          max_leaf_nodes=None,\n",
       "                                                          min_impurity_decrease=0.0,\n",
       "                                                          min_impurity_split=None,\n",
       "                                                          min_samples_leaf=0.03,\n",
       "                                                          min_samples_split=2,\n",
       "                                                          min_weight_fraction_leaf=0.0,\n",
       "                                                          presort=False,\n",
       "                                                          random_state=None,\n",
       "                                                          splitter='best'),\n",
       "                    learning_rate=0.3, n_estimators=40, random_state=42))"
      ]
     },
     "execution_count": 41,
     "metadata": {},
     "output_type": "execute_result"
    }
   ],
   "source": [
    "adab_search.best_score_, adab_clf_best"
   ]
  },
  {
   "cell_type": "code",
   "execution_count": 42,
   "metadata": {},
   "outputs": [
    {
     "name": "stdout",
     "output_type": "stream",
     "text": [
      "0.40794214247145133 0.41819599756176723\n"
     ]
    },
    {
     "data": {
      "image/png": "[encoded data removed]",
      "text/plain": [
       "<Figure size 432x288 with 1 Axes>"
      ]
     },
     "metadata": {
      "needs_background": "light"
     },
     "output_type": "display_data"
    }
   ],
   "source": [
    "plot_learning_curves(adab_clf_best, X_train, y_train, X_val, y_val)"
   ]
  },
  {
   "cell_type": "code",
   "execution_count": 43,
   "metadata": {},
   "outputs": [
    {
     "name": "stdout",
     "output_type": "stream",
     "text": [
      "Fitting 10 folds for each of 24 candidates, totalling 240 fits\n"
     ]
    },
    {
     "name": "stderr",
     "output_type": "stream",
     "text": [
      "[Parallel(n_jobs=-1)]: Using backend LokyBackend with 4 concurrent workers.\n",
      "[Parallel(n_jobs=-1)]: Done 240 out of 240 | elapsed:    4.0s finished\n"
     ]
    }
   ],
   "source": [
    "# Logistic Regression tuning\n",
    "\n",
    "log_reg = LogisticRegression(max_iter=1000, random_state=42)\n",
    "log_param_grid = {'C': [0.01,0.1,1,10,100,1e3],\n",
    "                  'penalty':[\"l1\",\"l2\"],\n",
    "                  'solver': [\"liblinear\",\"saga\"]}\n",
    "\n",
    "log_search = GridSearchCV(log_reg, param_grid=log_param_grid, cv=kfold, scoring=\"accuracy\", n_jobs=-1, verbose=1)\n",
    "log_search.fit(X_train,y_train)\n",
    "\n",
    "log_reg_best = log_search.best_estimator_\n",
    "save_results_log = log_search.cv_results_\n",
    "\n",
    "# Best score\n",
    "final_best_scores.append(log_search.best_score_)"
   ]
  },
  {
   "cell_type": "code",
   "execution_count": 44,
   "metadata": {},
   "outputs": [
    {
     "data": {
      "text/plain": [
       "(0.8323353293413174,\n",
       " LogisticRegression(C=10, class_weight=None, dual=False, fit_intercept=True,\n",
       "                    intercept_scaling=1, l1_ratio=None, max_iter=1000,\n",
       "                    multi_class='warn', n_jobs=None, penalty='l1',\n",
       "                    random_state=42, solver='liblinear', tol=0.0001, verbose=0,\n",
       "                    warm_start=False))"
      ]
     },
     "execution_count": 44,
     "metadata": {},
     "output_type": "execute_result"
    }
   ],
   "source": [
    "log_search.best_score_, log_reg_best"
   ]
  },
  {
   "cell_type": "code",
   "execution_count": 45,
   "metadata": {},
   "outputs": [
    {
     "name": "stdout",
     "output_type": "stream",
     "text": [
      "0.4023916506089063 0.4235235498876267\n"
     ]
    },
    {
     "data": {
      "image/png": "[encoded data removed]",
      "text/plain": [
       "<Figure size 432x288 with 1 Axes>"
      ]
     },
     "metadata": {
      "needs_background": "light"
     },
     "output_type": "display_data"
    }
   ],
   "source": [
    "plot_learning_curves(log_reg_best, X_train, y_train, X_val, y_val)"
   ]
  },
  {
   "cell_type": "code",
   "execution_count": 46,
   "metadata": {},
   "outputs": [
    {
     "name": "stdout",
     "output_type": "stream",
     "text": [
      "Fitting 10 folds for each of 36 candidates, totalling 360 fits\n"
     ]
    },
    {
     "name": "stderr",
     "output_type": "stream",
     "text": [
      "[Parallel(n_jobs=-1)]: Using backend LokyBackend with 4 concurrent workers.\n",
      "[Parallel(n_jobs=-1)]: Done 144 tasks      | elapsed:    3.1s\n",
      "[Parallel(n_jobs=-1)]: Done 360 out of 360 | elapsed:    7.8s finished\n"
     ]
    }
   ],
   "source": [
    "# SVC tuning\n",
    "\n",
    "svc_clf = SVC(probability=True, random_state=42)\n",
    "svc_param_grid = {'kernel': ['rbf'], \n",
    "                  'gamma': [0.1, 0.3, 1, 2],\n",
    "                  'C': [0.01,0.03,0.1],\n",
    "                  'degree': [2,3,4]\n",
    "                 }\n",
    "\n",
    "svc_search = GridSearchCV(svc_clf, param_grid=svc_param_grid, cv=kfold, scoring=\"accuracy\", n_jobs=-1, verbose=1)\n",
    "svc_search.fit(X_train,y_train)\n",
    "\n",
    "svc_clf_best = svc_search.best_estimator_\n",
    "save_results_svc = svc_search.cv_results_\n",
    "\n",
    "# Best score\n",
    "final_best_scores.append(svc_search.best_score_)"
   ]
  },
  {
   "cell_type": "code",
   "execution_count": 47,
   "metadata": {},
   "outputs": [
    {
     "data": {
      "text/plain": [
       "(0.8278443113772455, SVC(C=0.1, cache_size=200, class_weight=None, coef0=0.0,\n",
       "     decision_function_shape='ovr', degree=2, gamma=1, kernel='rbf', max_iter=-1,\n",
       "     probability=True, random_state=42, shrinking=True, tol=0.001,\n",
       "     verbose=False))"
      ]
     },
     "execution_count": 47,
     "metadata": {},
     "output_type": "execute_result"
    }
   ],
   "source": [
    "svc_search.best_score_, svc_clf_best"
   ]
  },
  {
   "cell_type": "code",
   "execution_count": 48,
   "metadata": {},
   "outputs": [
    {
     "name": "stdout",
     "output_type": "stream",
     "text": [
      "0.39864839110441036 0.4287849137296606\n"
     ]
    },
    {
     "data": {
      "image/png": "[encoded data removed]",
      "text/plain": [
       "<Figure size 432x288 with 1 Axes>"
      ]
     },
     "metadata": {
      "needs_background": "light"
     },
     "output_type": "display_data"
    }
   ],
   "source": [
    "plot_learning_curves(svc_clf_best, X_train, y_train, X_val, y_val)"
   ]
  },
  {
   "cell_type": "code",
   "execution_count": 49,
   "metadata": {},
   "outputs": [
    {
     "name": "stdout",
     "output_type": "stream",
     "text": [
      "Fitting 10 folds for each of 162 candidates, totalling 1620 fits\n"
     ]
    },
    {
     "name": "stderr",
     "output_type": "stream",
     "text": [
      "[Parallel(n_jobs=-1)]: Using backend LokyBackend with 4 concurrent workers.\n",
      "[Parallel(n_jobs=-1)]: Done 552 tasks      | elapsed:    4.2s\n",
      "[Parallel(n_jobs=-1)]: Done 1620 out of 1620 | elapsed:   15.0s finished\n"
     ]
    }
   ],
   "source": [
    "# XGBoost tuning\n",
    "from sklearn.model_selection import GridSearchCV \n",
    "\n",
    "xgb_clf = XGBClassifier(random_state=42)\n",
    "xgb_param_grid = {'eta' : [0.03,0.1],\n",
    "                 'max_depth': [2,3,4],\n",
    "                 'learning_rate': [0.01,0.1,0.3],\n",
    "                 'colsample_bytree': [0.1,0.3,0.5],\n",
    "                 'n_estimators' :[20,40,60]\n",
    "                }\n",
    "\n",
    "xgb_search = GridSearchCV(xgb_clf, param_grid=xgb_param_grid, cv=kfold, scoring=\"accuracy\", n_jobs=-1, verbose=1)\n",
    "xgb_search.fit(X_train,y_train)\n",
    "\n",
    "xgb_clf_best = xgb_search.best_estimator_\n",
    "save_results_xgb = xgb_search.cv_results_\n",
    "\n",
    "# Best score\n",
    "final_best_scores.append(xgb_search.best_score_)"
   ]
  },
  {
   "cell_type": "code",
   "execution_count": 50,
   "metadata": {},
   "outputs": [
    {
     "data": {
      "text/plain": [
       "(0.8353293413173652,\n",
       " XGBClassifier(base_score=0.5, booster='gbtree', colsample_bylevel=1,\n",
       "               colsample_bynode=1, colsample_bytree=0.3, eta=0.03, gamma=0,\n",
       "               learning_rate=0.1, max_delta_step=0, max_depth=4,\n",
       "               min_child_weight=1, missing=None, n_estimators=40, n_jobs=1,\n",
       "               nthread=None, objective='binary:logistic', random_state=42,\n",
       "               reg_alpha=0, reg_lambda=1, scale_pos_weight=1, seed=None,\n",
       "               silent=None, subsample=1, verbosity=1))"
      ]
     },
     "execution_count": 50,
     "metadata": {},
     "output_type": "execute_result"
    }
   ],
   "source": [
    "xgb_search.best_score_, xgb_clf_best"
   ]
  },
  {
   "cell_type": "code",
   "execution_count": 51,
   "metadata": {},
   "outputs": [
    {
     "name": "stdout",
     "output_type": "stream",
     "text": [
      "0.40052439389498806 0.41279969409381373\n"
     ]
    },
    {
     "data": {
      "image/png": "[encoded data removed]",
      "text/plain": [
       "<Figure size 432x288 with 1 Axes>"
      ]
     },
     "metadata": {
      "needs_background": "light"
     },
     "output_type": "display_data"
    }
   ],
   "source": [
    "plot_learning_curves(xgb_clf_best, X_train, y_train, X_val, y_val)"
   ]
  },
  {
   "cell_type": "markdown",
   "metadata": {},
   "source": [
    "# plot feature importance of best estimators"
   ]
  },
  {
   "cell_type": "code",
   "execution_count": 52,
   "metadata": {},
   "outputs": [],
   "source": [
    "def plot_feature_importance(estimator,title):\n",
    "    feature_importance = estimator.feature_importances_\n",
    "    isort = (np.argsort(feature_importance))[::-1]\n",
    "    x_values = feature_importance[isort[0:12]]\n",
    "    y_values = feature_list[isort[0:12]]\n",
    "        \n",
    "    pp = sns.barplot(x=x_values,y=y_values,orient = \"h\")\n",
    "    pp.set_xlabel(\"Importance\")\n",
    "    pp.set_ylabel(\"Feature\")\n",
    "    pp.set_title(title)"
   ]
  },
  {
   "cell_type": "code",
   "execution_count": 53,
   "metadata": {},
   "outputs": [
    {
     "data": {
      "image/png": "[encoded data removed]",
      "text/plain": [
       "<Figure size 432x288 with 1 Axes>"
      ]
     },
     "metadata": {
      "needs_background": "light"
     },
     "output_type": "display_data"
    }
   ],
   "source": [
    "plot_feature_importance(gb_clf_best,\"GradientBoostingBest\")"
   ]
  },
  {
   "cell_type": "code",
   "execution_count": 54,
   "metadata": {},
   "outputs": [
    {
     "data": {
      "image/png": "[encoded data removed]",
      "text/plain": [
       "<Figure size 432x288 with 1 Axes>"
      ]
     },
     "metadata": {
      "needs_background": "light"
     },
     "output_type": "display_data"
    }
   ],
   "source": [
    "plot_feature_importance(rnd_clf_best,\"RandomForestBest\")"
   ]
  },
  {
   "cell_type": "code",
   "execution_count": 55,
   "metadata": {},
   "outputs": [
    {
     "data": {
      "image/png": "[encoded data removed]",
      "text/plain": [
       "<Figure size 432x288 with 1 Axes>"
      ]
     },
     "metadata": {
      "needs_background": "light"
     },
     "output_type": "display_data"
    }
   ],
   "source": [
    "plot_feature_importance(adab_clf_best,\"AdaBoostBest\")"
   ]
  },
  {
   "cell_type": "code",
   "execution_count": 56,
   "metadata": {},
   "outputs": [
    {
     "data": {
      "image/png": "[encoded data removed]",
      "text/plain": [
       "<Figure size 432x288 with 1 Axes>"
      ]
     },
     "metadata": {
      "needs_background": "light"
     },
     "output_type": "display_data"
    }
   ],
   "source": [
    "plot_feature_importance(xgb_clf_best,\"XGBoostBest\")"
   ]
  },
  {
   "cell_type": "markdown",
   "metadata": {},
   "source": [
    "# put best estimators together for vote"
   ]
  },
  {
   "cell_type": "code",
   "execution_count": 57,
   "metadata": {},
   "outputs": [
    {
     "data": {
      "text/plain": [
       "0.8383233532934131"
      ]
     },
     "execution_count": 57,
     "metadata": {},
     "output_type": "execute_result"
    }
   ],
   "source": [
    "voting_clf = VotingClassifier(\n",
    "    estimators=[('gb', gb_clf_best), ('rnd', rnd_clf_best), ('adab', adab_clf_best), \\\n",
    "                ('log_reg', log_reg_best), ('svc', svc_clf_best), ('xgb', xgb_clf_best)]) \n",
    "\n",
    "voting_clf.fit(X_train, y_train)\n",
    "\n",
    "voting_clf.voting = \"soft\"\n",
    "voting_clf.score(X_train, y_train)"
   ]
  },
  {
   "cell_type": "code",
   "execution_count": 58,
   "metadata": {},
   "outputs": [
    {
     "data": {
      "text/plain": [
       "0.8340807174887892"
      ]
     },
     "execution_count": 58,
     "metadata": {},
     "output_type": "execute_result"
    }
   ],
   "source": [
    "voting_clf.score(X_val, y_val)"
   ]
  },
  {
   "cell_type": "code",
   "execution_count": 59,
   "metadata": {},
   "outputs": [
    {
     "name": "stdout",
     "output_type": "stream",
     "text": [
      "0.8251121076233184\n",
      "0.8295964125560538\n",
      "0.8251121076233184\n",
      "0.820627802690583\n",
      "0.8161434977578476\n",
      "0.8295964125560538\n"
     ]
    }
   ],
   "source": [
    "#individual performance on validation set\n",
    "for this_estimator in [gb_clf_best,rnd_clf_best,adab_clf_best,log_reg_best,svc_clf_best,xgb_clf_best]:\n",
    "    print(this_estimator.score(X_val, y_val))"
   ]
  },
  {
   "cell_type": "markdown",
   "metadata": {},
   "source": [
    "# final part: apply on test set\n"
   ]
  },
  {
   "cell_type": "code",
   "execution_count": 60,
   "metadata": {},
   "outputs": [
    {
     "name": "stdout",
     "output_type": "stream",
     "text": [
      "<class 'pandas.core.frame.DataFrame'>\n",
      "RangeIndex: 418 entries, 0 to 417\n",
      "Data columns (total 11 columns):\n",
      "PassengerId    418 non-null int64\n",
      "Pclass         418 non-null int64\n",
      "Name           418 non-null object\n",
      "Sex            418 non-null object\n",
      "Age            332 non-null float64\n",
      "SibSp          418 non-null int64\n",
      "Parch          418 non-null int64\n",
      "Ticket         418 non-null object\n",
      "Fare           417 non-null float64\n",
      "Cabin          91 non-null object\n",
      "Embarked       418 non-null object\n",
      "dtypes: float64(2), int64(4), object(5)\n",
      "memory usage: 36.0+ KB\n"
     ]
    }
   ],
   "source": [
    "#Load test_set\n",
    "test_set = load_this_data(DATA_PATH,\"test.csv\")\n",
    "\n",
    "test_set.info()"
   ]
  },
  {
   "cell_type": "code",
   "execution_count": 61,
   "metadata": {},
   "outputs": [],
   "source": [
    "#process test set\n",
    "feature_pipeline(test_set)"
   ]
  },
  {
   "cell_type": "code",
   "execution_count": 62,
   "metadata": {
    "scrolled": false
   },
   "outputs": [
    {
     "name": "stdout",
     "output_type": "stream",
     "text": [
      "<class 'pandas.core.frame.DataFrame'>\n",
      "RangeIndex: 418 entries, 0 to 417\n",
      "Data columns (total 22 columns):\n",
      "SibSp            418 non-null int64\n",
      "Parch            418 non-null int64\n",
      "is_mr            418 non-null int64\n",
      "is_mrs           418 non-null int64\n",
      "is_miss          418 non-null int64\n",
      "is_master        418 non-null int64\n",
      "is_fancy         418 non-null int64\n",
      "is_rare          418 non-null int64\n",
      "fam_small        418 non-null int64\n",
      "fam_big          418 non-null int64\n",
      "relatives_on     418 non-null int64\n",
      "fare_group1      418 non-null int64\n",
      "fare_group2      418 non-null int64\n",
      "age_group1       418 non-null int64\n",
      "age_group2       418 non-null int64\n",
      "age_group3       418 non-null int64\n",
      "has_cabin        418 non-null int64\n",
      "port_embark_C    418 non-null int64\n",
      "port_embark_S    418 non-null int64\n",
      "is_female        418 non-null int64\n",
      "class_1          418 non-null int64\n",
      "class_2          418 non-null int64\n",
      "dtypes: int64(22)\n",
      "memory usage: 72.0 KB\n"
     ]
    }
   ],
   "source": [
    "#drop and transform\n",
    "test_set = test_set.drop(labels=list_features_drop, axis=1)\n",
    "X_data_test = test_set.drop(labels=[\"PassengerId\"],axis=1)\n",
    "\n",
    "X_test = scaler.transform(X_data_test)\n",
    "\n",
    "X_data_test.info()"
   ]
  },
  {
   "cell_type": "code",
   "execution_count": 63,
   "metadata": {},
   "outputs": [
    {
     "name": "stdout",
     "output_type": "stream",
     "text": [
      "0.39712918660287083\n"
     ]
    }
   ],
   "source": [
    "#make predictions and save\n",
    "voting_clf.voting = \"soft\"\n",
    "\n",
    "final_pred = voting_clf.predict(X_test).astype(int)\n",
    "pass_ids = test_set[\"PassengerId\"]\n",
    "\n",
    "print(np.sum(final_pred)/len(final_pred))\n",
    "\n",
    "submission = pd.DataFrame({\n",
    "        \"PassengerId\": pass_ids,\n",
    "        \"Survived\": final_pred\n",
    "    })\n",
    "#submission.to_csv('./submission_pred_new.csv', index=False)"
   ]
  }
 ],
 "metadata": {
  "kernelspec": {
   "display_name": "Python 3",
   "language": "python",
   "name": "python3"
  },
  "language_info": {
   "codemirror_mode": {
    "name": "ipython",
    "version": 3
   },
   "file_extension": ".py",
   "mimetype": "text/x-python",
   "name": "python",
   "nbconvert_exporter": "python",
   "pygments_lexer": "ipython3",
   "version": "3.7.3"
  }
 },
 "nbformat": 4,
 "nbformat_minor": 2
}
