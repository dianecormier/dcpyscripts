{
 "cells": [
  {
   "cell_type": "markdown",
   "metadata": {},
   "source": [
    "# This is a notebook to solve a specific, interesting challenge: there is a riddle hidden in a dataset containing (fake) images of galaxies. \n",
    "The challenge is solved in several steps. Step 1. It reads, cleans, classifies the images from the training set. Step 2. It applies the classifier to the test set. Step 3. It performs cluster identification in the projected sky plane and transforms clusters ids into letters to figure out what the hidden message is."
   ]
  },
  {
   "cell_type": "markdown",
   "metadata": {},
   "source": [
    "# Setup and definition of some functions"
   ]
  },
  {
   "cell_type": "code",
   "execution_count": 1,
   "metadata": {},
   "outputs": [],
   "source": [
    "# Common imports\n",
    "\n",
    "import numpy as np\n",
    "import os\n",
    "import pandas as pd\n",
    "import sklearn\n",
    "from scipy import ndimage\n",
    "from skimage import morphology\n",
    "from sklearn import model_selection\n",
    "from sklearn.linear_model import LogisticRegressionCV,LogisticRegression\n",
    "from sklearn.model_selection import cross_val_score\n",
    "from sklearn.model_selection import cross_val_predict\n",
    "from sklearn.metrics import confusion_matrix\n",
    "import joblib\n",
    "\n",
    "\n",
    "# To plot pretty figures\n",
    "\n",
    "%matplotlib inline\n",
    "import matplotlib as mpl\n",
    "import matplotlib.pyplot as plt\n",
    "\n",
    "\n",
    "# General variables and options\n",
    "\n",
    "ASTRO_DATA_PATH = './dataset/'\n",
    "binarize_set = 1\n",
    "illustrate_steps = True\n",
    "\n",
    "\n",
    "# Functions\n",
    "\n",
    "def load_astro_data(astro_path,astro_filename):\n",
    "    \n",
    "    \"\"\" Function to read the dataset\n",
    "    \n",
    "        Input: path and filename\n",
    "        Output: Panda Dataframe\n",
    "    \"\"\"\n",
    "    \n",
    "    csv_path = os.path.join(astro_path, astro_filename)\n",
    "    \n",
    "    return pd.read_csv(csv_path)\n",
    "\n",
    "\n",
    "def denoise_center_set(dataset):\n",
    "    \n",
    "    \"\"\" This is a function to (1) remove noise from the images \n",
    "        based on a morphological identification (min_size can be tuned)\n",
    "        and (2) recenter the images (more accurate when done after denoising)\n",
    "        \n",
    "        Input: dataset\n",
    "        Output: modified dataset\n",
    "        All datasets are of the format (n_instances, n_pixels_in_image)\n",
    "        a check can be implemented if future datasets are not prepared likewise\n",
    "    \"\"\"\n",
    "    \n",
    "    # Check the dataset and image size   \n",
    "    \n",
    "    n_inst = len(dataset)\n",
    "    n_x = np.sqrt(len(dataset[0,:])).astype(int)\n",
    "        \n",
    "    # Loop on instances of the dataset\n",
    "    \n",
    "    for ii in range(n_inst):\n",
    "    \n",
    "        # Reshape to an image and remove noise \n",
    "        \n",
    "        this_image = dataset[ii].reshape(n_x,n_x)\n",
    "        this_image_bool = this_image > 0\n",
    "        mask_image = morphology.remove_small_objects(this_image_bool,min_size=50)\n",
    "        this_image_denoise = this_image*mask_image\n",
    " \n",
    "        # Calculate the center of mass and center the image\n",
    "\n",
    "        center_of_mass_x,center_of_mass_y = ndimage.measurements.center_of_mass(this_image_denoise)\n",
    "        target_center_x,target_center_y = n_x/2,n_x/2\n",
    "        new_center = ((target_center_x-center_of_mass_x).astype(int),(target_center_y-center_of_mass_y).astype(int))\n",
    "        this_image_shifted = np.roll(this_image_denoise,new_center,axis=(0,1))\n",
    "        dataset[ii] = this_image_shifted.flatten()\n",
    "    \n",
    "    return dataset\n",
    "\n",
    "    \n",
    "def plot_this_image(this_image,this_title):\n",
    "    \n",
    "    \"\"\" This is a function to plot the image.\n",
    "    \n",
    "        Input: image and plot title \n",
    "    \"\"\"\n",
    "\n",
    "    n_x = np.sqrt(len(this_image)).astype(int)\n",
    "    image_reshaped = this_image.reshape(n_x, n_x)\n",
    "    \n",
    "    plt.imshow(image_reshaped)\n",
    "    plt.axis(\"off\")\n",
    "    plt.title(this_title)\n",
    "    plt.colorbar(orientation='vertical')\n",
    "    plt.show()"
   ]
  },
  {
   "cell_type": "markdown",
   "metadata": {},
   "source": [
    "# Part I: read the labeled dataset; inspect, prepare, and train a model on the set. \n",
    "\n",
    "The set is composed of images of size 50x50 of 5000 astronomical objects. Images are on the same intensity scale, ranging from 0 to 31. Those objects are galaxies identified by the boolean label 'spiral'. Non-spiral galaxies are elliptical galaxies, i.e. with an elliptical center but without a spiral pattern. The morphology of the galaxies (presence of arms which translate into extent in the images) is a clear indicator of their class. This is a binary classification problem. Given the clear differences in the images, a linear classifier might be sufficient.\n"
   ]
  },
  {
   "cell_type": "code",
   "execution_count": 2,
   "metadata": {},
   "outputs": [
    {
     "name": "stdout",
     "output_type": "stream",
     "text": [
      "   spiral  0,0  0,1  0,2  0,3  0,4  0,5  0,6  0,7  0,8  ...  49,40  49,41  \\\n",
      "0   False    0    0    0    0    0    0    0    0    0  ...      0      0   \n",
      "1    True    0    0    0    0    0    0    0    0    0  ...      0      0   \n",
      "2    True    0    0    0    0    0    0    0    0    0  ...      0      0   \n",
      "3    True    0    0    0    0    0    0    0    0    0  ...      0      0   \n",
      "4   False    0    0    0    0    0    0    0    0    0  ...      0      0   \n",
      "\n",
      "   49,42  49,43  49,44  49,45  49,46  49,47  49,48  49,49  \n",
      "0      0      0      0      0      0      0      0      0  \n",
      "1      0      0      0      0      0      0      0      0  \n",
      "2      0      0      0      0      0      0      0      0  \n",
      "3      0      0      0      0      0      0      0      0  \n",
      "4      0      0      0      0      0      0      0      0  \n",
      "\n",
      "[5 rows x 2501 columns]\n",
      "<class 'pandas.core.frame.DataFrame'>\n",
      "RangeIndex: 5000 entries, 0 to 4999\n",
      "Columns: 2501 entries, spiral to 49,49\n",
      "dtypes: bool(1), int64(2500)\n",
      "memory usage: 95.4 MB\n",
      "None\n",
      "               0,0         0,1         0,2          0,3          0,4  \\\n",
      "count  5000.000000  5000.00000  5000.00000  5000.000000  5000.000000   \n",
      "mean      0.522800     0.57480     0.66560     0.712600     0.714800   \n",
      "std       3.162448     3.35855     3.65618     3.777732     3.739767   \n",
      "min       0.000000     0.00000     0.00000     0.000000     0.000000   \n",
      "25%       0.000000     0.00000     0.00000     0.000000     0.000000   \n",
      "50%       0.000000     0.00000     0.00000     0.000000     0.000000   \n",
      "75%       0.000000     0.00000     0.00000     0.000000     0.000000   \n",
      "max      31.000000    31.00000    31.00000    31.000000    31.000000   \n",
      "\n",
      "               0,5         0,6          0,7          0,8          0,9  ...  \\\n",
      "count  5000.000000  5000.00000  5000.000000  5000.000000  5000.000000  ...   \n",
      "mean      0.726000     0.68860     0.597000     0.659800     0.741800  ...   \n",
      "std       3.879115     3.71618     3.438511     3.556036     3.912824  ...   \n",
      "min       0.000000     0.00000     0.000000     0.000000     0.000000  ...   \n",
      "25%       0.000000     0.00000     0.000000     0.000000     0.000000  ...   \n",
      "50%       0.000000     0.00000     0.000000     0.000000     0.000000  ...   \n",
      "75%       0.000000     0.00000     0.000000     0.000000     0.000000  ...   \n",
      "max      31.000000    31.00000    31.000000    31.000000    31.000000  ...   \n",
      "\n",
      "             49,40        49,41        49,42        49,43        49,44  \\\n",
      "count  5000.000000  5000.000000  5000.000000  5000.000000  5000.000000   \n",
      "mean      0.668400     0.726400     0.675400     0.648000     0.631600   \n",
      "std       3.622412     3.796844     3.556145     3.556603     3.600177   \n",
      "min       0.000000     0.000000     0.000000     0.000000     0.000000   \n",
      "25%       0.000000     0.000000     0.000000     0.000000     0.000000   \n",
      "50%       0.000000     0.000000     0.000000     0.000000     0.000000   \n",
      "75%       0.000000     0.000000     0.000000     0.000000     0.000000   \n",
      "max      31.000000    31.000000    31.000000    31.000000    31.000000   \n",
      "\n",
      "             49,45        49,46        49,47        49,48        49,49  \n",
      "count  5000.000000  5000.000000  5000.000000  5000.000000  5000.000000  \n",
      "mean      0.649200     0.636600     0.682000     0.637200     0.602000  \n",
      "std       3.564868     3.567953     3.738512     3.413899     3.290556  \n",
      "min       0.000000     0.000000     0.000000     0.000000     0.000000  \n",
      "25%       0.000000     0.000000     0.000000     0.000000     0.000000  \n",
      "50%       0.000000     0.000000     0.000000     0.000000     0.000000  \n",
      "75%       0.000000     0.000000     0.000000     0.000000     0.000000  \n",
      "max      31.000000    31.000000    31.000000    31.000000    31.000000  \n",
      "\n",
      "[8 rows x 2500 columns]\n"
     ]
    }
   ],
   "source": [
    "# Load the training data and print out general information\n",
    "\n",
    "training_set = load_astro_data(ASTRO_DATA_PATH,\"catalog-01.csv\")\n",
    "\n",
    "if illustrate_steps:\n",
    "    print(training_set.head())\n",
    "    print(training_set.info())\n",
    "    print(training_set.describe())"
   ]
  },
  {
   "cell_type": "code",
   "execution_count": 3,
   "metadata": {},
   "outputs": [],
   "source": [
    "# Extract the images and the response\n",
    "\n",
    "X_data = training_set.drop(\"spiral\",axis=1).to_numpy(dtype=float)\n",
    "y_data = training_set[\"spiral\"].to_numpy(dtype=float)\n",
    "\n",
    "# Save one example image before cleaning\n",
    "\n",
    "if illustrate_steps:\n",
    "    pick_image = 67\n",
    "    X_data_one_save = X_data[pick_image].copy()"
   ]
  },
  {
   "cell_type": "code",
   "execution_count": 4,
   "metadata": {},
   "outputs": [],
   "source": [
    "# Clean training set\n",
    "\n",
    "X_data = denoise_center_set(X_data)\n",
    "\n",
    "# Note: all images are already on the same scale.\n",
    "# Otherwise, include a step here.\n",
    "\n",
    "# Turn on to optimize the structure identification\n",
    "#   used in a second step but not initially to keep the method more general\n",
    "\n",
    "if binarize_set:\n",
    "    X_data[X_data > 0] = 1"
   ]
  },
  {
   "cell_type": "code",
   "execution_count": 5,
   "metadata": {},
   "outputs": [
    {
     "data": {
      "image/png": "[encoded data removed]",
      "text/plain": [
       "<Figure size 432x288 with 2 Axes>"
      ]
     },
     "metadata": {
      "needs_background": "light"
     },
     "output_type": "display_data"
    },
    {
     "data": {
      "image/png": "[encoded data removed]",
      "text/plain": [
       "<Figure size 432x288 with 2 Axes>"
      ]
     },
     "metadata": {
      "needs_background": "light"
     },
     "output_type": "display_data"
    }
   ],
   "source": [
    "# plot some images for visualization of the training set\n",
    "\n",
    "if illustrate_steps:\n",
    "    plot_this_image(X_data_one_save,'Image before cleaning')\n",
    "    plot_this_image(X_data[pick_image],'Image after cleaning')"
   ]
  },
  {
   "cell_type": "code",
   "execution_count": 6,
   "metadata": {},
   "outputs": [
    {
     "data": {
      "image/png": "[encoded data removed]",
      "text/plain": [
       "<Figure size 432x288 with 2 Axes>"
      ]
     },
     "metadata": {
      "needs_background": "light"
     },
     "output_type": "display_data"
    }
   ],
   "source": [
    "# Optional: plot the difference of the average between the two classes\n",
    "#  (this step is not necessary but informative)\n",
    "#   it shows that there are zones in the images that are particularly important for the classification\n",
    "\n",
    "if illustrate_steps:\n",
    "    average_spiral = np.mean(X_data[y_data == 1.],axis=0)\n",
    "    average_nonspiral = np.mean(X_data[y_data == 0.],axis=0)\n",
    "\n",
    "    plot_this_image(average_spiral-average_nonspiral,'Difference of class averages')"
   ]
  },
  {
   "cell_type": "code",
   "execution_count": 7,
   "metadata": {},
   "outputs": [],
   "source": [
    "# Separate set into training and validation sets\n",
    "\n",
    "test_size = 0.5\n",
    "seed = 0\n",
    "X_train, X_test, y_train, y_test = model_selection.train_test_split(X_data, y_data, \\\n",
    "                                                            test_size=test_size, random_state=seed)"
   ]
  },
  {
   "cell_type": "code",
   "execution_count": 8,
   "metadata": {},
   "outputs": [
    {
     "name": "stdout",
     "output_type": "stream",
     "text": [
      " == Training set results == \n",
      "Scores (accuracy):\n",
      "[1. 1. 1.]\n",
      "Confusion matrix:\n",
      "[[ 620    0]\n",
      " [   0 1880]]\n"
     ]
    }
   ],
   "source": [
    "# Train the model, optimizing the regularization parameter\n",
    "#  (here, n_instances~n_features, some regularization will be needed)\n",
    "#   for this linear, binary classification, straightforward Logistic Regression seems sufficient\n",
    "#    LinearSVC works well too.\n",
    "\n",
    "log_reg = LogisticRegressionCV(solver=\"liblinear\", cv=3, random_state=42)\n",
    "log_reg.fit(X_train, y_train)\n",
    "\n",
    "y_train_pred = cross_val_predict(log_reg, X_train, y_train, cv=3)\n",
    "y_train_scores = cross_val_score(log_reg, X_train, y_train, cv=3, scoring=\"accuracy\")\n",
    "\n",
    "# Print out performance\n",
    "\n",
    "print(\" == Training set results == \")\n",
    "print(\"Scores (accuracy):\")\n",
    "print(y_train_scores)\n",
    "print(\"Confusion matrix:\")\n",
    "print(confusion_matrix(y_train, y_train_pred))"
   ]
  },
  {
   "cell_type": "code",
   "execution_count": 9,
   "metadata": {},
   "outputs": [
    {
     "name": "stdout",
     "output_type": "stream",
     "text": [
      "regularization parameter C: 0.005995\n"
     ]
    },
    {
     "data": {
      "image/png": "[encoded data removed]",
      "text/plain": [
       "<Figure size 432x288 with 2 Axes>"
      ]
     },
     "metadata": {
      "needs_background": "light"
     },
     "output_type": "display_data"
    }
   ],
   "source": [
    "# Check out best value for regularization parameter and fitted coefficients\n",
    "\n",
    "if illustrate_steps:\n",
    "    print(\"regularization parameter C: %f\" % (log_reg.C_))\n",
    "    plot_this_image(log_reg.coef_.flatten(),'Map of coefficients')"
   ]
  },
  {
   "cell_type": "markdown",
   "metadata": {},
   "source": [
    "# Apply the model to the test set."
   ]
  },
  {
   "cell_type": "code",
   "execution_count": 10,
   "metadata": {
    "scrolled": true
   },
   "outputs": [
    {
     "name": "stdout",
     "output_type": "stream",
     "text": [
      " == Test set results == \n",
      "Confusion matrix:\n",
      "[[ 630    0]\n",
      " [   1 1869]]\n"
     ]
    }
   ],
   "source": [
    "# Apply model to make predictions on the test set\n",
    "\n",
    "y_test_pred = log_reg.predict(X_test)\n",
    "\n",
    "# Check accuracy with the confusion matrix\n",
    "\n",
    "print(\" == Test set results == \")\n",
    "print(\"Confusion matrix:\")\n",
    "print(confusion_matrix(y_test, y_test_pred))"
   ]
  },
  {
   "cell_type": "markdown",
   "metadata": {},
   "source": [
    "This seems good in performance. Comparing with the values of cross-validation above, there are slight differences. This could be an indication of over-fitting. However, given the performance on the validation data, the model seems good enough for generalization."
   ]
  },
  {
   "cell_type": "code",
   "execution_count": 11,
   "metadata": {},
   "outputs": [
    {
     "name": "stdout",
     "output_type": "stream",
     "text": [
      "Number of misidendifications: 1\n",
      "Index, Observed Class, Predicted Class:\n",
      "677 1.0 0.0\n"
     ]
    },
    {
     "data": {
      "image/png": "[encoded data removed]",
      "text/plain": [
       "<Figure size 432x288 with 2 Axes>"
      ]
     },
     "metadata": {
      "needs_background": "light"
     },
     "output_type": "display_data"
    }
   ],
   "source": [
    "# Check out images for those misidentified\n",
    "\n",
    "index_mis = np.array(np.where(abs(y_test-y_test_pred) > 0.)).flatten()\n",
    "print(\"Number of misidendifications: %i\" % (len(index_mis)))\n",
    "\n",
    "if illustrate_steps & (len(index_mis) > 0):\n",
    "    print(\"Index, Observed Class, Predicted Class:\")\n",
    "    for ii in range(len(index_mis)):\n",
    "        print(index_mis[ii],y_test[index_mis[ii]],y_test_pred[index_mis[ii]])\n",
    "        plot_this_image(X_test[index_mis[ii]],'Map of image '+str(index_mis[ii]))"
   ]
  },
  {
   "cell_type": "markdown",
   "metadata": {},
   "source": [
    "The misidentifications appear to be related to spirals with strong centers compared to the arms. The binarize_set option can boost the importance of the arms versus the center and improve the classification."
   ]
  },
  {
   "cell_type": "code",
   "execution_count": 12,
   "metadata": {
    "scrolled": true
   },
   "outputs": [],
   "source": [
    "# Save model for speeding application to future set\n",
    "\n",
    "if binarize_set:\n",
    "    joblib.dump(log_reg, 'saved_model_bin.pkl') \n",
    "else:\n",
    "    joblib.dump(log_reg, 'saved_model.pkl') "
   ]
  },
  {
   "cell_type": "markdown",
   "metadata": {},
   "source": [
    "# Part II: load the new dataset, prepare it, and apply the model for class prediction\n",
    "\n",
    "The second set is much larger than the training set. It contains images of 267019 objects. Instances do not have a 'spiral' label but have X and Y position values. The images are of the same kind (same intensity scale, noise) as in the training set so we can prepare them in the same way. Applying the model, we find that only a small fraction of the new dataset appears to have non-spiral objects. Based on the test set, we expect about 1 False Negative out of 1870, hence 150 out of the new dataset. We can tune the decision threshold to reduce the number of False Negatives. Then, we inspect the position of the less-represented class on the sky with the X and Y positions.\n"
   ]
  },
  {
   "cell_type": "code",
   "execution_count": 13,
   "metadata": {},
   "outputs": [],
   "source": [
    "# Load saved model\n",
    "\n",
    "if binarize_set:\n",
    "    log_reg_load = joblib.load('saved_model_bin.pkl') \n",
    "else:\n",
    "    log_reg_load = joblib.load('saved_model.pkl') "
   ]
  },
  {
   "cell_type": "code",
   "execution_count": 14,
   "metadata": {},
   "outputs": [
    {
     "name": "stdout",
     "output_type": "stream",
     "text": [
      "          x         y  0,0  0,1  0,2  0,3  0,4  0,5  0,6  0,7  ...  49,40  \\\n",
      "0  0.278433 -0.228036    0    0    0    0    0    0    0    0  ...      0   \n",
      "1 -0.047939  0.070321    0    0    0    0    0    0    0    0  ...      0   \n",
      "2  0.454666 -0.777126    0    0    0    0    0    0    0    0  ...      0   \n",
      "3 -0.073506 -0.578250    0    0    0    0    0    0    0    0  ...      0   \n",
      "4  0.233255 -0.680391    0    0    0    0    0    0    0    0  ...      0   \n",
      "\n",
      "   49,41  49,42  49,43  49,44  49,45  49,46  49,47  49,48  49,49  \n",
      "0      0      0      0      0      0      0      0      0      0  \n",
      "1      0      0      0      0      0      0      0      0      0  \n",
      "2      0      0      0      0      0      0      0      0      0  \n",
      "3     16      1      0      0      0      0      0     22     31  \n",
      "4      0      0      0      0      0      0      0      0      0  \n",
      "\n",
      "[5 rows x 2502 columns]\n",
      "<class 'pandas.core.frame.DataFrame'>\n",
      "RangeIndex: 267019 entries, 0 to 267018\n",
      "Columns: 2502 entries, x to 49,49\n",
      "dtypes: float64(2), int64(2500)\n",
      "memory usage: 5.0 GB\n",
      "None\n",
      "                   x              y            0,0            0,1  \\\n",
      "count  267019.000000  267019.000000  267019.000000  267019.000000   \n",
      "mean        0.000766      -0.000030       0.638419       0.658788   \n",
      "std         0.504933       0.504888       3.579502       3.641319   \n",
      "min        -1.009327      -1.009799       0.000000       0.000000   \n",
      "25%        -0.406548      -0.408252       0.000000       0.000000   \n",
      "50%         0.001784       0.000625       0.000000       0.000000   \n",
      "75%         0.409290       0.409057       0.000000       0.000000   \n",
      "max         1.009960       1.009803      31.000000      31.000000   \n",
      "\n",
      "                 0,2            0,3            0,4            0,5  \\\n",
      "count  267019.000000  267019.000000  267019.000000  267019.000000   \n",
      "mean        0.654115       0.653002       0.651025       0.685333   \n",
      "std         3.617921       3.599120       3.585603       3.688376   \n",
      "min         0.000000       0.000000       0.000000       0.000000   \n",
      "25%         0.000000       0.000000       0.000000       0.000000   \n",
      "50%         0.000000       0.000000       0.000000       0.000000   \n",
      "75%         0.000000       0.000000       0.000000       0.000000   \n",
      "max        31.000000      31.000000      31.000000      31.000000   \n",
      "\n",
      "                 0,6            0,7  ...          49,40          49,41  \\\n",
      "count  267019.000000  267019.000000  ...  267019.000000  267019.000000   \n",
      "mean        0.708388       0.705141  ...       0.733236       0.717170   \n",
      "std         3.771794       3.727316  ...       3.833334       3.795093   \n",
      "min         0.000000       0.000000  ...       0.000000       0.000000   \n",
      "25%         0.000000       0.000000  ...       0.000000       0.000000   \n",
      "50%         0.000000       0.000000  ...       0.000000       0.000000   \n",
      "75%         0.000000       0.000000  ...       0.000000       0.000000   \n",
      "max        31.000000      31.000000  ...      31.000000      31.000000   \n",
      "\n",
      "               49,42          49,43          49,44          49,45  \\\n",
      "count  267019.000000  267019.000000  267019.000000  267019.000000   \n",
      "mean        0.714983       0.693539       0.676723       0.660762   \n",
      "std         3.783607       3.728132       3.666077       3.624248   \n",
      "min         0.000000       0.000000       0.000000       0.000000   \n",
      "25%         0.000000       0.000000       0.000000       0.000000   \n",
      "50%         0.000000       0.000000       0.000000       0.000000   \n",
      "75%         0.000000       0.000000       0.000000       0.000000   \n",
      "max        31.000000      31.000000      31.000000      31.000000   \n",
      "\n",
      "               49,46          49,47          49,48          49,49  \n",
      "count  267019.000000  267019.000000  267019.000000  267019.000000  \n",
      "mean        0.657455       0.624911       0.626131       0.645988  \n",
      "std         3.632870       3.515310       3.497737       3.590599  \n",
      "min         0.000000       0.000000       0.000000       0.000000  \n",
      "25%         0.000000       0.000000       0.000000       0.000000  \n",
      "50%         0.000000       0.000000       0.000000       0.000000  \n",
      "75%         0.000000       0.000000       0.000000       0.000000  \n",
      "max        31.000000      31.000000      31.000000      31.000000  \n",
      "\n",
      "[8 rows x 2502 columns]\n"
     ]
    }
   ],
   "source": [
    "# Load the new, unlabeled set and print information\n",
    "\n",
    "new_set = load_astro_data(ASTRO_DATA_PATH,\"grlw-145.csv\")\n",
    "\n",
    "if illustrate_steps:\n",
    "    print(new_set.head())\n",
    "    print(new_set.info())\n",
    "    print(new_set.describe())"
   ]
  },
  {
   "cell_type": "code",
   "execution_count": 15,
   "metadata": {},
   "outputs": [],
   "source": [
    "# Extract and clean dataset\n",
    "\n",
    "X_new = new_set.drop([\"x\",\"y\"],axis=1).to_numpy(dtype=float)\n",
    "x_pos = new_set[\"x\"].to_numpy(dtype=float)\n",
    "y_pos = new_set[\"y\"].to_numpy(dtype=float)\n",
    "n_new = len(X_new)\n",
    "\n",
    "X_new = denoise_center_set(X_new)\n",
    "\n",
    "if binarize_set:\n",
    "    X_new[X_new > 0] = 1"
   ]
  },
  {
   "cell_type": "code",
   "execution_count": 16,
   "metadata": {},
   "outputs": [
    {
     "name": "stdout",
     "output_type": "stream",
     "text": [
      "Number of non-spiral: 792 / 267019, i.e. 0.296608 percent \n"
     ]
    }
   ],
   "source": [
    "# Apply model to make predictions on the test set\n",
    "\n",
    "y_new_pred = log_reg.predict(X_new)\n",
    "\n",
    "print(\"Number of non-spiral: %i / %i, i.e. %f percent \" %\n",
    "      (np.sum(y_new_pred == 0), n_new, np.sum(y_new_pred == 0)/n_new*100.))"
   ]
  },
  {
   "cell_type": "markdown",
   "metadata": {},
   "source": [
    "The two classes are clearly not present in the new dataset in equal proportions. There are a lot more spirals than nonspirals. This means that the influence of false negatives is very important. This is the reason to inspect the dependance of the number of galaxies as a function of the probability decision threshold."
   ]
  },
  {
   "cell_type": "code",
   "execution_count": 17,
   "metadata": {},
   "outputs": [
    {
     "data": {
      "image/png": "[encoded data removed]",
      "text/plain": [
       "<Figure size 432x288 with 1 Axes>"
      ]
     },
     "metadata": {
      "needs_background": "light"
     },
     "output_type": "display_data"
    }
   ],
   "source": [
    "# Get probabilities and tune the threshold\n",
    "\n",
    "y_new_proba = log_reg.predict_proba(X_new)\n",
    "\n",
    "if y_new_proba.ndim == 2:\n",
    "    y_new_proba = y_new_proba[:, 1]\n",
    "    \n",
    "# plot nb versus threshold\n",
    "\n",
    "n_thresholds = 60\n",
    "thresholds = 10**(-4*np.arange(n_thresholds)/n_thresholds-0.2)\n",
    "nb_nonspiral = np.zeros(n_thresholds)\n",
    "\n",
    "for kt,this_threshold in enumerate(thresholds):\n",
    "    nb_nonspiral[kt] = (y_new_proba < this_threshold).sum()\n",
    "    \n",
    "plt.plot(thresholds,nb_nonspiral)\n",
    "plt.axvline(x=0.5,color='r', linestyle='--')\n",
    "plt.xscale('log')\n",
    "plt.xlabel('Probability threshold value')\n",
    "plt.ylabel('Number of nonspirals')\n",
    "plt.show()\n",
    "\n",
    "# apply threshold\n",
    "#   (the point of inflexion is where the number of false negatives start to dominate the trend)\n",
    "\n",
    "if binarize_set:\n",
    "    y_new_proba = (y_new_proba >= 0.5).astype(int)\n",
    "else:\n",
    "    y_new_proba = (y_new_proba >= 0.05).astype(int)\n",
    "    print(\"Number of non-spiral after thresholding: %i / %i, i.e. %f percent \" %\n",
    "      (np.sum(y_new_proba == 0), n_new, np.sum(y_new_proba == 0)/n_new*100.))"
   ]
  },
  {
   "cell_type": "code",
   "execution_count": 18,
   "metadata": {
    "scrolled": false
   },
   "outputs": [
    {
     "data": {
      "image/png": "[encoded data removed]",
      "text/plain": [
       "<Figure size 360x360 with 1 Axes>"
      ]
     },
     "metadata": {
      "needs_background": "light"
     },
     "output_type": "display_data"
    }
   ],
   "source": [
    "# Check out where the non-spirals fall on the sky\n",
    "\n",
    "x_nonspiral = x_pos[y_new_proba == 0]\n",
    "y_nonspiral = y_pos[y_new_proba == 0]\n",
    "\n",
    "plt.figure(figsize=(5,5))\n",
    "plt.scatter(x_pos,y_pos,alpha=0.01,s=0.1,color='r')\n",
    "plt.scatter(x_nonspiral,y_nonspiral,alpha=0.3,s=10)\n",
    "plt.xlabel('X')\n",
    "plt.ylabel('Y')\n",
    "plt.show()"
   ]
  },
  {
   "cell_type": "markdown",
   "metadata": {},
   "source": [
    "Looking at the sources in the X-Y plane, non-spirals are clearly not falling on random places on the plot. They are grouped with each other in clusters and along specific directions. Visual inspection of the images confirms that isolated dots are indeed False Negatives and larger dots are clusters of (about 10) non-spirals."
   ]
  },
  {
   "cell_type": "markdown",
   "metadata": {},
   "source": [
    "# Part 3: identify clusters, sort them and match letters\n",
    "Some clusters are close to each other and real clusters have at least 7-8 members, so identification by agglomeration, i.e. selecting a small radius from the centers, seems appropriate. Computing the frequency of the lines in the X-Y plane, the circles seems divided into 26 parts, i.e. 26 letters. We finally sort the clusters by radius and attribute a most likely letter, given their position in the X-Y plane, by checking the frequency against a corpus, to figure out the meaning of the hidden sentence."
   ]
  },
  {
   "cell_type": "code",
   "execution_count": 19,
   "metadata": {},
   "outputs": [],
   "source": [
    "# get the clusters !\n",
    "\n",
    "from sklearn.cluster import AgglomerativeClustering\n",
    "\n",
    "xy_array = np.column_stack((x_nonspiral,y_nonspiral))\n",
    "\n",
    "km = AgglomerativeClustering(n_clusters=None,distance_threshold=0.04)\n",
    "km = km.fit(xy_array)"
   ]
  },
  {
   "cell_type": "code",
   "execution_count": 20,
   "metadata": {},
   "outputs": [
    {
     "name": "stdout",
     "output_type": "stream",
     "text": [
      "N clusters: 38\n"
     ]
    }
   ],
   "source": [
    "# select real clusters\n",
    "#  by throwing out those with single or few members\n",
    "\n",
    "n_gals = []\n",
    "x_cen = []\n",
    "y_cen = []\n",
    "for kk in range(km.n_clusters_):\n",
    "    iio = np.argwhere(km.labels_ == kk)\n",
    "    if len(iio) > 3:\n",
    "        n_gals.append(len(iio))\n",
    "        x_cen.append(np.median(xy_array[iio,0]))\n",
    "        y_cen.append(np.median(xy_array[iio,1]))\n",
    "n_clust = len(n_gals)\n",
    "x_cen = np.array(x_cen)\n",
    "y_cen = np.array(y_cen)\n",
    "r_cen = np.sqrt(x_cen**2.+y_cen**2.)\n",
    "\n",
    "print('N clusters: %i' % n_clust)"
   ]
  },
  {
   "cell_type": "code",
   "execution_count": 21,
   "metadata": {},
   "outputs": [
    {
     "data": {
      "image/png": "[encoded data removed]",
      "text/plain": [
       "<Figure size 432x432 with 1 Axes>"
      ]
     },
     "metadata": {
      "needs_background": "light"
     },
     "output_type": "display_data"
    }
   ],
   "source": [
    "# sort by radius\n",
    "\n",
    "id_sort = np.argsort(r_cen)\n",
    "r_cen = r_cen[id_sort]\n",
    "x_cen = x_cen[id_sort]\n",
    "y_cen = y_cen[id_sort]\n",
    "\n",
    "# plot\n",
    "\n",
    "if illustrate_steps:\n",
    "    plt.figure(figsize=(6,6))\n",
    "    plt.scatter(x_nonspiral,y_nonspiral,alpha=0.3,s=10)\n",
    "    plt.scatter(0,0,s=100,marker='x')\n",
    "    for i in range(n_clust):\n",
    "        plt.text(x_cen[i], y_cen[i], str(i),color='r')\n",
    "    plt.xlabel('X')\n",
    "    plt.ylabel('Y')\n",
    "    plt.show()"
   ]
  },
  {
   "cell_type": "code",
   "execution_count": 22,
   "metadata": {},
   "outputs": [
    {
     "data": {
      "image/png": "[encoded data removed]",
      "text/plain": [
       "<Figure size 648x216 with 1 Axes>"
      ]
     },
     "metadata": {
      "needs_background": "light"
     },
     "output_type": "display_data"
    },
    {
     "name": "stdout",
     "output_type": "stream",
     "text": [
      "Number of sectors in the whole disk:  26.0\n"
     ]
    }
   ],
   "source": [
    "# get the frequency of the pattern\n",
    "#  the frequency can be seen by eye, but otherwise\n",
    "#  we can get the accurate value with, e.g. an FFT\n",
    "\n",
    "theta_arr = np.arctan(np.abs(y_nonspiral/x_nonspiral))\n",
    "rad_arr = np.sqrt(x_nonspiral**2. + y_nonspiral**2.)\n",
    "\n",
    "# plot theta\n",
    "\n",
    "plt.figure(figsize=(9,3))\n",
    "plt.hist(theta_arr,bins=100)\n",
    "plt.ylabel('N')\n",
    "for i in range(7):\n",
    "    plt.axvline(x=0.2418*i,color='r', linestyle='--')\n",
    "plt.xlabel('Angle')\n",
    "plt.show()\n",
    "\n",
    "print('Number of sectors in the whole disk: ', 2*np.round(np.pi/0.2418))\n"
   ]
  },
  {
   "cell_type": "code",
   "execution_count": 23,
   "metadata": {},
   "outputs": [],
   "source": [
    "# get letter-number order from theta\n",
    "\n",
    "theta_arr = np.arctan(y_cen/x_cen)*180./np.pi\n",
    "theta_arr[x_cen<0] += 180.\n",
    "theta_arr[(x_cen>=0) & (y_cen<0)] += 360.\n",
    "\n",
    "# small shift added to be sure that we are not cutting through a line of clusters\n",
    "letter_arr = np.floor(theta_arr*26/360. -0.5)\n",
    "letter_arr = letter_arr.astype(int)"
   ]
  },
  {
   "cell_type": "code",
   "execution_count": 24,
   "metadata": {},
   "outputs": [],
   "source": [
    "# get most common letter-numbers\n",
    "\n",
    "letter_unique = np.unique(letter_arr,return_counts=True)\n",
    "letter_counts = np.array(letter_unique[1])\n",
    "letter_unique = np.array(letter_unique[0])\n",
    "\n",
    "id_sort = np.flip(np.argsort(letter_counts))\n",
    "letter_counts = letter_counts[id_sort]\n",
    "letter_freq = letter_counts/np.sum(letter_counts)\n",
    "letter_unique = letter_unique[id_sort]"
   ]
  },
  {
   "cell_type": "code",
   "execution_count": 25,
   "metadata": {},
   "outputs": [],
   "source": [
    "# compare to corpus-frequency\n",
    "#  and attribute a score (adding frequencies from\n",
    "#   the corpus if letter present in the sentence, \n",
    "#   not very robust but it works)\n",
    "\n",
    "alphabet = []\n",
    "for letter in range(97,123):\n",
    "    alphabet.append(chr(letter))\n",
    "\n",
    "corpus = ['e','t','a','o','i','n','s','r','h','l','d']\n",
    "corpus_p = [4,19,0,14,8,13,18,17,7,11,3]\n",
    "corpus_f = [0.13,0.09,0.08,0.08,0.08,0.07,0.07,0.06,0.05,0.04,0.04]\n",
    "\n",
    "scores = np.zeros(len(corpus_p))\n",
    "sentences = []\n",
    "for jj,kk in enumerate(corpus_p):\n",
    "    alphabet_shift = np.roll(alphabet,letter_unique[0]-kk)\n",
    "    this_sentence = alphabet_shift[letter_arr]\n",
    "    sentences.append(this_sentence)\n",
    "    this_letters = alphabet_shift[letter_unique]\n",
    "    this_score = [corpus_f[i] for (i,v) in enumerate(corpus) if v in this_letters]\n",
    "    scores[jj] = np.sum(this_score)"
   ]
  },
  {
   "cell_type": "code",
   "execution_count": 26,
   "metadata": {},
   "outputs": [
    {
     "name": "stdout",
     "output_type": "stream",
     "text": [
      "Et voila:\n",
      "inthemiddleofdifficultyliesopportunity\n"
     ]
    }
   ],
   "source": [
    "# print the sentence with biggest score\n",
    "\n",
    "most_likely_sentence = ''.join(sentences[np.argmax(scores)])\n",
    "print('Et voila:')\n",
    "print(most_likely_sentence)"
   ]
  },
  {
   "cell_type": "markdown",
   "metadata": {},
   "source": [
    "# end of the challenge"
   ]
  },
  {
   "cell_type": "markdown",
   "metadata": {},
   "source": [
    "Thoughts for improvement:\n",
    "- more robust treatment of noise and background. For example, we could label regions and keep only the largest one.\n",
    "- more robust classification (less sensitive to above treatment, or if the size of the object varies too much). For example, CNN. Or AutoEncoder that first trains on the whole set and then on the labeled data for classification. But this seems an overkill for the task.\n",
    "- classes are clearly not present in the same proportions in the training set and in the new set. If future sets are all like the new set, we could think of boosting the training set with more images of spirals.\n"
   ]
  }
 ],
 "metadata": {
  "kernelspec": {
   "display_name": "Python 3",
   "language": "python",
   "name": "python3"
  },
  "language_info": {
   "codemirror_mode": {
    "name": "ipython",
    "version": 3
   },
   "file_extension": ".py",
   "mimetype": "text/x-python",
   "name": "python",
   "nbconvert_exporter": "python",
   "pygments_lexer": "ipython3",
   "version": "3.7.3"
  }
 },
 "nbformat": 4,
 "nbformat_minor": 2
}
